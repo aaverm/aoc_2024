{
 "cells": [
  {
   "cell_type": "code",
   "execution_count": 1,
   "metadata": {},
   "outputs": [],
   "source": [
    "import numpy as np"
   ]
  },
  {
   "cell_type": "markdown",
   "metadata": {},
   "source": [
    "## Part1"
   ]
  },
  {
   "cell_type": "code",
   "execution_count": 37,
   "metadata": {},
   "outputs": [],
   "source": [
    "input_file = \"example1.txt\"\n",
    "\n",
    "def parse_input_file(file_path):\n",
    "    with open(file_path, 'r') as f:\n",
    "        data = f.read()\n",
    "    \n",
    "    blocks = data.strip().split('\\n\\n')\n",
    "    \n",
    "    grid = [list(l) for l in b.split('\\n')]\n",
    "    \n",
    "    movements = blocks[1].replace('\\n','')\n",
    "    \n",
    "    return np.array(grid, dtype=str), movements"
   ]
  },
  {
   "cell_type": "code",
   "execution_count": 38,
   "metadata": {},
   "outputs": [],
   "source": [
    "grid, moves = parse_input_file(input_file)"
   ]
  },
  {
   "cell_type": "code",
   "execution_count": null,
   "metadata": {},
   "outputs": [],
   "source": [
    "def parse_input_file(file_path):\n",
    "    with open(file_path, 'r') as f:\n",
    "        data = f.read()\n",
    "\n",
    "    blocks = data.strip().split('\\n\\n')\n",
    "\n",
    "    grid = [list(l) for l in blocks[0].split('\\n')]\n",
    "\n",
    "    movements = blocks[1].replace('\\n','')\n",
    "\n",
    "    return np.array(grid, dtype=str), movements\n",
    "\n",
    "directions = ['^', '>', 'v', '<']  \n",
    "delta = {'^': (-1, 0), '>': (0, 1), 'v': (1, 0), '<': (0, -1)}\n",
    "\n",
    "def is_valid_move(x, y):\n",
    "    if is_inside_grid(x, y):\n",
    "        return grid[x][y] != '#'\n",
    "    return False\n",
    "\n",
    "def is_inside_grid(x, y):\n",
    "    rows, cols = grid.shape\n",
    "    return 0 <= x < rows and 0 <= y < cols\n",
    "\n",
    "def can_shift_objects(x, y, dx, dy):\n",
    "    while is_inside_grid(x + dx, y + dy):\n",
    "        x += dx\n",
    "        y += dy\n",
    "        if grid[x][y] == '.':\n",
    "            return True\n",
    "        elif grid[x][y] == '#':\n",
    "            return False\n",
    "    return False\n",
    "\n",
    "def shift_objects(x, y, dx, dy):\n",
    "    positions = []\n",
    "    while is_inside_grid(x, y) and grid[x][y] == 'O':\n",
    "        positions.append((x, y))\n",
    "        x += dx\n",
    "        y += dy\n",
    "\n",
    "    if is_inside_grid(x, y) and grid[x][y] == '.':\n",
    "        for px, py in reversed(positions):\n",
    "            grid[px][py] = '.'\n",
    "        for px, py in positions:\n",
    "            grid[px + dx][py + dy] = 'O'\n",
    "\n",
    "def move_agent(x, y, direction):\n",
    "    dx, dy = delta[direction]\n",
    "    nx, ny = x + dx, y + dy\n",
    "\n",
    "    if is_inside_grid(nx, ny):\n",
    "        if grid[nx][ny] == '.':\n",
    "            return nx, ny\n",
    "        elif grid[nx][ny] == 'O' and can_shift_objects(nx, ny, dx, dy):\n",
    "            shift_objects(nx, ny, dx, dy)\n",
    "            return nx, ny\n",
    "\n",
    "    return x, y\n",
    "\n",
    "def simulate_agent(start_x, start_y):\n",
    "    x, y = start_x, start_y\n",
    "\n",
    "    for move in moves:\n",
    "\n",
    "        nx, ny = move_agent(x, y, move)\n",
    "\n",
    "        if not (nx == x and ny == y):\n",
    "            grid[x][y] = '.'\n",
    "            grid[nx][ny] = '@'\n",
    "\n",
    "        x, y = nx, ny\n",
    "\n",
    "\n",
    "input_file = \"example1.txt\"\n",
    "grid, moves = parse_input_file(input_file)\n",
    "start_x, start_y = np.argwhere(np.array(grid) == '@')[0]\n",
    "\n",
    "#simulate_agent(start_x, start_y)\n"
   ]
  },
  {
   "cell_type": "code",
   "execution_count": 51,
   "metadata": {},
   "outputs": [
    {
     "data": {
      "text/plain": [
       "np.int64(10092)"
      ]
     },
     "execution_count": 51,
     "metadata": {},
     "output_type": "execute_result"
    }
   ],
   "source": [
    "sum([100*idx[0] + idx[1] for idx in np.argwhere(grid=='O')])"
   ]
  },
  {
   "cell_type": "code",
   "execution_count": 52,
   "metadata": {},
   "outputs": [],
   "source": [
    "input_file = \"input.txt\"\n",
    "grid, moves = parse_input_file(input_file)\n",
    "start_x, start_y = np.argwhere(np.array(grid) == '@')[0]\n",
    "\n",
    "simulate_agent(start_x, start_y)"
   ]
  },
  {
   "cell_type": "code",
   "execution_count": 53,
   "metadata": {},
   "outputs": [
    {
     "data": {
      "text/plain": [
       "np.int64(1429911)"
      ]
     },
     "execution_count": 53,
     "metadata": {},
     "output_type": "execute_result"
    }
   ],
   "source": [
    "sum([100*idx[0] + idx[1] for idx in np.argwhere(grid=='O')])"
   ]
  },
  {
   "cell_type": "markdown",
   "metadata": {},
   "source": [
    "## Part 2"
   ]
  },
  {
   "cell_type": "code",
   "execution_count": null,
   "metadata": {},
   "outputs": [],
   "source": [
    "def map_to_new_grid(grid):\n",
    "    mapping = {\n",
    "        '#': ['#', '#'],\n",
    "        'O': ['[', ']'],\n",
    "        '.': ['.', '.'],\n",
    "        '@': ['@', '.'],\n",
    "    }\n",
    "\n",
    "    rows, cols = grid.shape\n",
    "    new_grid = np.empty((rows, cols * 2), dtype=str)\n",
    "\n",
    "    for i in range(rows):\n",
    "        new_col_index = 0\n",
    "        for j in range(cols):\n",
    "            new_grid[i, new_col_index:new_col_index + 2] = mapping.get(grid[i, j], [grid[i, j]])\n",
    "            new_col_index += 2\n",
    "\n",
    "    return new_grid"
   ]
  },
  {
   "cell_type": "code",
   "execution_count": null,
   "metadata": {},
   "outputs": [],
   "source": [
    "# def can_shift_objects(x, y, dx, dy):\n",
    "#     while is_inside_grid(x + dx, y + dy):\n",
    "#         x += dx\n",
    "#         y += dy\n",
    "#         if grid[x][y] == '.':\n",
    "#             return True\n",
    "#         elif grid[x][y] == '#':\n",
    "#             return False\n",
    "#     return False\n",
    "\n",
    "# def shift_objects(x, y, dx, dy, side=\"left\"):\n",
    "#     positions = []\n",
    "#     positions_other = []\n",
    "    \n",
    "#     if side == \"left\":\n",
    "#         while is_inside_grid(x, y) and grid[x][y] == '[':\n",
    "#             positions.append((x, y))\n",
    "#             positions_other.append((x, y+1))\n",
    "#             x += dx\n",
    "#             y += dy\n",
    "\n",
    "#         if is_inside_grid(x, y) and grid[x][y] == '.':\n",
    "#             for px, py in reversed(positions):\n",
    "#                 grid[px][py] = '.'\n",
    "#             for px, py in positions:\n",
    "#                 grid[px + dx][py + dy] = '['\n",
    "#             for px, py in reversed(positions_other):\n",
    "#                 grid[px][py] = '.'\n",
    "#             for px, py in positions_other:\n",
    "#                 grid[px + dx][py + dy] = ']'\n",
    "#     else:\n",
    "#         while is_inside_grid(x, y) and grid[x][y] == ']':\n",
    "#             positions.append((x, y))\n",
    "#             positions_other.append((x, y-1))\n",
    "#             x += dx\n",
    "#             y += dy\n",
    "\n",
    "#         if is_inside_grid(x, y) and grid[x][y] == '.':\n",
    "#             for px, py in reversed(positions):\n",
    "#                 grid[px][py] = '.'\n",
    "#             for px, py in positions:\n",
    "#                 grid[px + dx][py + dy] = ']'\n",
    "#             for px, py in reversed(positions_other):\n",
    "#                 grid[px][py] = '.'\n",
    "#             for px, py in positions_other:\n",
    "#                 grid[px + dx][py + dy] = '['\n",
    "\n",
    "# def move_agent(x, y, direction):\n",
    "#     dx, dy = delta[direction]\n",
    "#     nx, ny = x + dx, y + dy\n",
    "\n",
    "#     if is_inside_grid(nx, ny):\n",
    "#         if grid[nx][ny] == '.':\n",
    "#             return nx, ny\n",
    "#         elif grid[nx][ny] == '[' and can_shift_objects(nx, ny, dx, dy) and can_shift_objects(nx, ny+1, dx, dy):\n",
    "#             shift_objects(nx, ny, dx, dy, \"left\")\n",
    "#             return nx, ny\n",
    "#         elif grid[nx][ny] == ']' and can_shift_objects(nx, ny, dx, dy) and can_shift_objects(nx, ny-1, dx, dy):\n",
    "#             shift_objects(nx, ny, dx, dy, \"right\")\n",
    "#             return nx, ny\n",
    "        \n",
    "#     return x, y\n",
    "        "
   ]
  },
  {
   "cell_type": "code",
   "execution_count": null,
   "metadata": {},
   "outputs": [
    {
     "name": "stdout",
     "output_type": "stream",
     "text": [
      "####################\n",
      "##....[]....[][][]##\n",
      "##..........[]..[]##\n",
      "##..[][]..........##\n",
      "##....[]..........##\n",
      "##[]##....[]..[]..##\n",
      "##[].@........[]..##\n",
      "##........[]..[]..##\n",
      "##..[][][][]....[]##\n",
      "####################\n"
     ]
    }
   ],
   "source": [
    "def find_block(x, y, grid):\n",
    "    positions = []\n",
    "    if grid[x][y] == '[':\n",
    "        # Traverse the block starting from '['\n",
    "        while is_inside_grid(x, y, grid) and grid[x][y] == '[':\n",
    "            positions.append((x, y))\n",
    "            if is_inside_grid(x, y + 1, grid) and grid[x][y + 1] == ']':\n",
    "                y += 1\n",
    "                positions.append((x, y))\n",
    "            x, y = x + 1, y\n",
    "    elif grid[x][y] == ']':\n",
    "        # Traverse the block starting from ']'\n",
    "        while is_inside_grid(x, y, grid) and grid[x][y] == ']':\n",
    "            positions.append((x, y))\n",
    "            if is_inside_grid(x, y - 1, grid) and grid[x][y - 1] == '[':\n",
    "                y -= 1\n",
    "                positions.append((x, y))\n",
    "            x, y = x + 1, y\n",
    "    return positions\n",
    "\n",
    "def can_shift_objects(x, y, dx, dy, grid):\n",
    "    block = find_block(x, y, grid)\n",
    "    \n",
    "    for px, py in block:\n",
    "        if not is_inside_grid(px + dx, py + dy, grid) or grid[px + dx][py + dy] != '.':\n",
    "            return False\n",
    "    return True\n",
    "\n",
    "def shift_objects(x, y, dx, dy, grid):\n",
    "    block = find_block(x, y, grid)\n",
    "    \n",
    "    for px, py in block:\n",
    "        grid[px][py] = '.'\n",
    "    for px, py in block:\n",
    "        grid[px + dx][py + dy] = '[' if py % 2 == 0 else ']'\n",
    "\n",
    "\n",
    "def move_agent(x, y, direction, grid):\n",
    "    dx, dy = delta[direction]\n",
    "    nx, ny = x + dx, y + dy\n",
    "\n",
    "    if is_valid_move(nx, ny, grid):\n",
    "        if grid[nx][ny] == '.':\n",
    "            return nx, ny\n",
    "        elif grid[nx][ny] == '[' and can_shift_objects(nx, ny, dx, dy, grid):\n",
    "            shift_objects(nx, ny, dx, dy, grid)\n",
    "            return nx, ny\n",
    "        elif grid[nx][ny] == ']' and can_shift_objects(nx, ny, dx, dy, grid):\n",
    "            shift_objects(nx, ny, dx, dy, grid)\n",
    "            return nx, ny\n",
    "\n",
    "    return x, y\n",
    "\n",
    "def simulate_agent(start_x, start_y, grid, moves):\n",
    "    x, y = start_x, start_y\n",
    "\n",
    "    for move in moves:\n",
    "        nx, ny = move_agent(x, y, move, grid)\n",
    "        \n",
    "        if not (nx == x and ny == y):\n",
    "            grid[x][y] = '.' \n",
    "            grid[nx][ny] = '@'\n",
    "\n",
    "        x, y = nx, ny\n",
    "    return grid\n",
    "\n",
    "def parse_input_file(file_path):\n",
    "    with open(file_path, 'r') as f:\n",
    "        data = f.read()\n",
    "\n",
    "    blocks = data.strip().split('\\n\\n')\n",
    "    grid = [list(line) for line in blocks[0].split('\\n')]\n",
    "    movements = blocks[1].replace('\\n','')\n",
    "    \n",
    "    return np.array(grid, dtype=str), movements\n",
    "\n",
    "input_file = \"example1.txt\"\n",
    "old_grid, moves = parse_input_file(input_file)\n",
    "grid = map_to_new_grid(old_grid)\n",
    "start_x, start_y = np.argwhere(grid == '@')[0]\n",
    "\n",
    "grid = simulate_agent(start_x, start_y, grid, moves)\n",
    "\n",
    "# Print the final grid\n",
    "for row in grid:\n",
    "    print(\"\".join(row))\n"
   ]
  },
  {
   "cell_type": "code",
   "execution_count": 158,
   "metadata": {},
   "outputs": [],
   "source": [
    "input_file = \"input.txt\"\n",
    "old_grid, moves = parse_input_file(input_file)\n",
    "grid = map_to_new_grid(old_grid)"
   ]
  },
  {
   "cell_type": "code",
   "execution_count": 160,
   "metadata": {},
   "outputs": [],
   "source": [
    "start_x, start_y = np.argwhere(np.array(grid) == '@')[0]\n",
    "\n",
    "grid = simulate_agent(start_x, start_y, grid, moves)"
   ]
  },
  {
   "cell_type": "code",
   "execution_count": 155,
   "metadata": {},
   "outputs": [
    {
     "name": "stdout",
     "output_type": "stream",
     "text": [
      "# # # # # # # # # # # # # # # #\n",
      "# # . . . . [ ] . . [ ] . . # #\n",
      "# # # # . . . . [ ] . . . . # #\n",
      "# # . . . . . . [ ] . . . . # #\n",
      "# # . . # # @ . [ ] . . . . # #\n",
      "# # . . . . . . [ ] . . . . # #\n",
      "# # . . . . . . . . . . . . # #\n",
      "# # # # # # # # # # # # # # # #\n"
     ]
    }
   ],
   "source": [
    "for row in grid:\n",
    "    print(' '.join(row))"
   ]
  },
  {
   "cell_type": "code",
   "execution_count": 161,
   "metadata": {},
   "outputs": [
    {
     "data": {
      "text/plain": [
       "np.int64(1420376)"
      ]
     },
     "execution_count": 161,
     "metadata": {},
     "output_type": "execute_result"
    }
   ],
   "source": [
    "sum([100*idx[0] + idx[1] for idx in np.argwhere(grid=='[')])"
   ]
  },
  {
   "cell_type": "code",
   "execution_count": null,
   "metadata": {},
   "outputs": [],
   "source": []
  }
 ],
 "metadata": {
  "kernelspec": {
   "display_name": ".aoc",
   "language": "python",
   "name": "python3"
  },
  "language_info": {
   "codemirror_mode": {
    "name": "ipython",
    "version": 3
   },
   "file_extension": ".py",
   "mimetype": "text/x-python",
   "name": "python",
   "nbconvert_exporter": "python",
   "pygments_lexer": "ipython3",
   "version": "3.13.0"
  }
 },
 "nbformat": 4,
 "nbformat_minor": 2
}

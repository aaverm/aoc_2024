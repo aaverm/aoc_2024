{
 "cells": [
  {
   "cell_type": "code",
   "execution_count": 1,
   "metadata": {},
   "outputs": [],
   "source": [
    "import numpy as np\n",
    "from collections import deque, Counter"
   ]
  },
  {
   "cell_type": "markdown",
   "metadata": {},
   "source": [
    "## Part 1"
   ]
  },
  {
   "cell_type": "code",
   "execution_count": 2,
   "metadata": {},
   "outputs": [],
   "source": [
    "def read_text_file_as_grid(file_path):\n",
    "    with open(file_path, 'r') as file:\n",
    "        grid = [list(line.strip()) for line in file if line.strip()]\n",
    "    return np.array(grid)"
   ]
  },
  {
   "cell_type": "code",
   "execution_count": 3,
   "metadata": {},
   "outputs": [],
   "source": [
    "def is_inside_grid(grid, x, y):\n",
    "    rows, cols = grid.shape\n",
    "    return 0 <= x < rows and 0 <= y < cols\n",
    "\n",
    "def is_valid_move(grid, x, y):\n",
    "    return is_inside_grid(grid, x, y) and grid[x][y] != '#'\n",
    "\n",
    "def find_start_and_end(grid):\n",
    "    start = tuple(np.argwhere(grid==\"S\")[0])\n",
    "    end = tuple(np.argwhere(grid==\"E\")[0])\n",
    "    return start, end\n",
    "\n",
    "def bfs(grid):\n",
    "    start, end = find_start_and_end(grid)\n",
    "    start_x, start_y = start\n",
    "    goal_x, goal_y = end\n",
    "    \n",
    "    directions = [(-1, 0), (0, 1), (1, 0), (0, -1)]\n",
    "    \n",
    "    queue = deque([(start_x, start_y, [])])\n",
    "    \n",
    "    visited = set()\n",
    "    visited.add((start_x, start_y))\n",
    "    \n",
    "    while queue:\n",
    "        x, y, path = queue.popleft()\n",
    "        \n",
    "        if (x, y) == (goal_x, goal_y):\n",
    "            return path + [(x, y)]\n",
    "        \n",
    "        for dx, dy in directions:\n",
    "            nx, ny = x + dx, y + dy\n",
    "            if is_valid_move(grid, nx, ny) and (nx, ny) not in visited:\n",
    "                visited.add((nx, ny))\n",
    "                queue.append((nx, ny, path + [(x, y)]))\n",
    "    \n",
    "    return None\n",
    "\n",
    "def bfs_with_child_tracking(grid):\n",
    "    start, end = find_start_and_end(grid)\n",
    "    start_x, start_y = start\n",
    "    goal_x, goal_y = end\n",
    "    \n",
    "    directions = [(-1, 0), (0, 1), (1, 0), (0, -1)]\n",
    "    \n",
    "    queue = deque([(start_x, start_y, 0)])\n",
    "    \n",
    "    visited = set()\n",
    "    visited.add((start_x, start_y))\n",
    "    \n",
    "    child_nodes = {}\n",
    "    \n",
    "    while queue:\n",
    "        x, y, path_length = queue.popleft()\n",
    "        \n",
    "        if (x, y) == (goal_x, goal_y):\n",
    "            return path_length, child_nodes\n",
    "        \n",
    "        for dx, dy in directions:\n",
    "            nx, ny = x + dx, y + dy\n",
    "            if is_valid_move(grid, nx, ny) and (nx, ny) not in visited:\n",
    "                visited.add((nx, ny))\n",
    "                queue.append((nx, ny, path_length + 1))\n",
    "                child_nodes[(x, y)] = (nx, ny)\n",
    "    \n",
    "    return None, None"
   ]
  },
  {
   "cell_type": "code",
   "execution_count": 4,
   "metadata": {},
   "outputs": [],
   "source": [
    "def test_block_removal(grid, min_steps_saved=1):\n",
    "    base_length, _ = bfs_with_child_tracking(grid)\n",
    "    \n",
    "    wall_indeces = np.argwhere(grid == \"#\")\n",
    "    \n",
    "    cheats = {}\n",
    "\n",
    "    for x,y in wall_indeces:\n",
    "        grid[x][y] = \".\"\n",
    "        \n",
    "        length, child_nodes = bfs_with_child_tracking(grid)\n",
    "        \n",
    "        if length is not None and length < base_length:\n",
    "            saved_steps = base_length - length\n",
    "            \n",
    "            if (child_nodes and (x, y) in child_nodes) and saved_steps >= min_steps_saved:\n",
    "                best_next_step = child_nodes[(x, y)]\n",
    "                cheats[(best_next_step, (x, y))] = saved_steps\n",
    "\n",
    "        grid[x][y] = \"#\"\n",
    "\n",
    "    return cheats\n"
   ]
  },
  {
   "cell_type": "code",
   "execution_count": 5,
   "metadata": {},
   "outputs": [],
   "source": [
    "input_file = \"example1.txt\"\n",
    "grid = read_text_file_as_grid(input_file)"
   ]
  },
  {
   "cell_type": "code",
   "execution_count": 6,
   "metadata": {},
   "outputs": [
    {
     "name": "stdout",
     "output_type": "stream",
     "text": [
      "84\n"
     ]
    }
   ],
   "source": [
    "shortest_path = bfs(grid)\n",
    "base_length = len(shortest_path)-1\n",
    "print(len(shortest_path)-1)"
   ]
  },
  {
   "cell_type": "code",
   "execution_count": 7,
   "metadata": {},
   "outputs": [
    {
     "name": "stdout",
     "output_type": "stream",
     "text": [
      "[(2, 14), (4, 14), (6, 2), (8, 4), (10, 2), (12, 3), (20, 1), (36, 1), (38, 1), (40, 1), (64, 1)]\n"
     ]
    }
   ],
   "source": [
    "cheats = test_block_removal(grid)\n",
    "cheat_counter = Counter(cheats.values())\n",
    "print(sorted(cheat_counter.items()))"
   ]
  },
  {
   "cell_type": "code",
   "execution_count": 52,
   "metadata": {},
   "outputs": [
    {
     "name": "stdout",
     "output_type": "stream",
     "text": [
      "final count of cheats: 1363\n"
     ]
    }
   ],
   "source": [
    "input_file = \"input.txt\"\n",
    "grid = read_text_file_as_grid(input_file)\n",
    "cheats = test_block_removal(grid, min_steps_saved=100)\n",
    "cheat_counter = Counter(cheats.values())\n",
    "count_cheat_paths = sum(cheat_counter.values())\n",
    "print(f\"final count of cheats: {count_cheat_paths}\")"
   ]
  },
  {
   "cell_type": "markdown",
   "metadata": {},
   "source": [
    "## Part 2"
   ]
  },
  {
   "cell_type": "code",
   "execution_count": 69,
   "metadata": {},
   "outputs": [],
   "source": [
    "from itertools import combinations\n",
    "\n",
    "def find_nearby_walls(grid, max_distance=19):\n",
    "    start, _ = find_start_and_end(grid)\n",
    "    wall_indices = np.argwhere(grid == \"#\")\n",
    "    \n",
    "    nearby_walls = []\n",
    "    \n",
    "    for wx, wy in wall_indices:\n",
    "        queue = deque([(start[0], start[1], 0)]) \n",
    "        visited = set()\n",
    "        visited.add(start)\n",
    "        \n",
    "        while queue:\n",
    "            x, y, dist = queue.popleft()\n",
    "            \n",
    "            if dist > max_distance:\n",
    "                break\n",
    "            \n",
    "            if (x, y) == (wx, wy):\n",
    "                nearby_walls.append((wx, wy, dist))\n",
    "                break\n",
    "            \n",
    "            for dx, dy in [(-1, 0), (0, 1), (1, 0), (0, -1)]:\n",
    "                nx, ny = x + dx, y + dy\n",
    "                if is_inside_grid(grid, nx, ny) and (nx, ny) not in visited:\n",
    "                    visited.add((nx, ny))\n",
    "                    queue.append((nx, ny, dist + 1))\n",
    "    \n",
    "    return nearby_walls\n",
    "\n",
    "def generate_removal_scenarios(nearby_walls):\n",
    "    all_scenarios = []\n",
    "    for r in range(1, len(nearby_walls) + 1):\n",
    "        for removal_combo in combinations(nearby_walls, r):\n",
    "            all_scenarios.append(removal_combo)\n",
    "    \n",
    "    return all_scenarios\n",
    "\n",
    "def test_block_removal(grid, min_steps_saved=1):\n",
    "    base_length, _ = bfs_with_child_tracking(grid)\n",
    "    \n",
    "    wall_indices = np.argwhere(grid == \"#\")\n",
    "    \n",
    "    cheats = {}\n",
    "    nearby_walls = find_nearby_walls(grid, max_distance=19)\n",
    "    \n",
    "    removal_scenarios = generate_removal_scenarios(nearby_walls)\n",
    "    \n",
    "    for removal_set in removal_scenarios:\n",
    "        original_grid = grid.copy()\n",
    "        \n",
    "        for wx, wy, _ in removal_set:\n",
    "            grid[wx][wy] = \".\"\n",
    "        \n",
    "        length, child_nodes = bfs_with_child_tracking(grid)\n",
    "        \n",
    "        if length is not None and length < base_length:\n",
    "            saved_steps = base_length - length\n",
    "\n",
    "            last_replacement = removal_set[-1] \n",
    "            if (child_nodes and (last_replacement[0], last_replacement[1]) in child_nodes) and saved_steps >= min_steps_saved:\n",
    "                best_next_step = child_nodes[(last_replacement[0], last_replacement[1])]\n",
    "                cheats[(best_next_step, (last_replacement[0], last_replacement[1]))] = saved_steps\n",
    "        \n",
    "        grid = original_grid.copy()\n",
    "    \n",
    "    return cheats"
   ]
  },
  {
   "cell_type": "code",
   "execution_count": null,
   "metadata": {},
   "outputs": [],
   "source": []
  }
 ],
 "metadata": {
  "kernelspec": {
   "display_name": ".aoc",
   "language": "python",
   "name": "python3"
  },
  "language_info": {
   "codemirror_mode": {
    "name": "ipython",
    "version": 3
   },
   "file_extension": ".py",
   "mimetype": "text/x-python",
   "name": "python",
   "nbconvert_exporter": "python",
   "pygments_lexer": "ipython3",
   "version": "3.13.0"
  }
 },
 "nbformat": 4,
 "nbformat_minor": 2
}

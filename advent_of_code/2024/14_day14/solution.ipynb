{
 "cells": [
  {
   "cell_type": "code",
   "execution_count": 72,
   "metadata": {},
   "outputs": [],
   "source": [
    "import numpy as np\n",
    "import os\n",
    "import cv2\n",
    "from collections import Counter\n",
    "from PIL import Image"
   ]
  },
  {
   "cell_type": "markdown",
   "metadata": {},
   "source": [
    "## Part 1"
   ]
  },
  {
   "cell_type": "code",
   "execution_count": 48,
   "metadata": {},
   "outputs": [],
   "source": [
    "def parse_coordinates(file_path):\n",
    "    coordinates = []\n",
    "\n",
    "    with open(file_path, 'r') as file:\n",
    "        for line in file:\n",
    "            line = line.strip()\n",
    "\n",
    "            try:\n",
    "                position_part, movement_part = line.split(' v=')\n",
    "                position = tuple(map(float, position_part.replace('p=', '').split(',')))\n",
    "                movement = tuple(map(float, movement_part.split(',')))\n",
    "                coordinates.append({\n",
    "                    'position': position,\n",
    "                    'movement': movement\n",
    "                })\n",
    "            except ValueError as e:\n",
    "                print(f\"Error: {e}\")\n",
    "\n",
    "    return coordinates\n",
    "\n",
    "def generate_grid(n, m):\n",
    "    grid = np.zeros((n, m), dtype=float)\n",
    "    return grid"
   ]
  },
  {
   "cell_type": "code",
   "execution_count": null,
   "metadata": {},
   "outputs": [],
   "source": [
    "def is_inside_grid(grid, x, y):\n",
    "    rows, cols = grid.shape\n",
    "    return 0 <= x < rows and 0 <= y < cols\n",
    "\n",
    "def calculate_diff_grid(grid, x, y):\n",
    "    rows, cols = grid.shape\n",
    "\n",
    "    if x < 0:\n",
    "        adjusted_x = rows + x\n",
    "    elif x >= rows:\n",
    "        adjusted_x = x - rows \n",
    "    else:\n",
    "        adjusted_x = x\n",
    "\n",
    "    if y < 0:\n",
    "        adjusted_y = cols + y\n",
    "    elif y >= cols:\n",
    "        adjusted_y = y - cols\n",
    "    else:\n",
    "        adjusted_y = y\n",
    "\n",
    "    return adjusted_x, adjusted_y\n",
    "\n",
    "\n",
    "def move_agent(grid, x, y, delta):\n",
    "    dx, dy = delta\n",
    "    nx, ny = x + dx, y + dy\n",
    "\n",
    "    if is_inside_grid(grid, nx, ny):\n",
    "        return nx, ny \n",
    "    else:\n",
    "        return calculate_diff_grid(grid, nx, ny)\n",
    "\n",
    "def simulate_agent(grid, start_x, start_y, delta, n_rounds):\n",
    "    x, y = start_x, start_y\n",
    "\n",
    "    for i in range(n_rounds):\n",
    "        x, y = move_agent(grid, x, y, delta)\n",
    "\n",
    "    return x, y\n"
   ]
  },
  {
   "cell_type": "code",
   "execution_count": 49,
   "metadata": {},
   "outputs": [],
   "source": [
    "input_file = \"input.txt\"\n",
    "width = 101\n",
    "height = 103\n",
    "\n",
    "coordinates = parse_coordinates(input_file)\n",
    "grid = generate_grid(n=width, m=height)\n",
    "\n",
    "positions = []\n",
    "\n",
    "for agent in coordinates:\n",
    "    position, delta = agent.values()\n",
    "    end_position = simulate_agent(grid, position[0], position[1], delta, n_rounds=100)\n",
    "    positions.append(tuple(end_position))"
   ]
  },
  {
   "cell_type": "code",
   "execution_count": 50,
   "metadata": {},
   "outputs": [],
   "source": [
    "position_counter = Counter(positions)"
   ]
  },
  {
   "cell_type": "code",
   "execution_count": 45,
   "metadata": {},
   "outputs": [],
   "source": [
    "def compute_quadrants(n, m, counter):\n",
    "    matrix = np.zeros((n, m), dtype=int)\n",
    "    \n",
    "    for (x, y), value in counter.items():\n",
    "        x = int(x)\n",
    "        y = int(y)\n",
    "        if 0 <= x < n and 0 <= y < m: \n",
    "            matrix[x, y] = value\n",
    "\n",
    "    middle_row = n // 2\n",
    "    middle_col = m // 2\n",
    "    if n > 0:\n",
    "        matrix[middle_row, :] = 0\n",
    "    if m > 0:\n",
    "        matrix[:, middle_col] = 0\n",
    "\n",
    "    q1 = np.sum(matrix[:middle_row, middle_col+1:]) \n",
    "    q2 = np.sum(matrix[:middle_row, :middle_col]) \n",
    "    q3 = np.sum(matrix[middle_row+1:, :middle_col]) \n",
    "    q4 = np.sum(matrix[middle_row+1:, middle_col+1:])\n",
    "    \n",
    "    return q1 * q2 * q3 * q4\n"
   ]
  },
  {
   "cell_type": "code",
   "execution_count": 52,
   "metadata": {},
   "outputs": [
    {
     "name": "stdout",
     "output_type": "stream",
     "text": [
      "215987200\n"
     ]
    }
   ],
   "source": [
    "safety_factor = compute_quadrants(width, height, position_counter)\n",
    "print(safety_factor)"
   ]
  },
  {
   "cell_type": "markdown",
   "metadata": {},
   "source": [
    "## Part 2"
   ]
  },
  {
   "cell_type": "code",
   "execution_count": 68,
   "metadata": {},
   "outputs": [],
   "source": [
    "def detect_christmas_tree(matrix):\n",
    "    rows, cols = matrix.shape\n",
    "    for row in range(rows - 2):  \n",
    "        for col in range(1, cols - 1): \n",
    "            if (matrix[row, col] == 1 and\n",
    "                matrix[row + 1, col - 1] == 1 and matrix[row + 1, col + 1] == 1 and\n",
    "                matrix[row + 2, col - 2] == 1 and matrix[row + 2, col] == 1 and matrix[row + 2, col + 2] == 1):\n",
    "                return True\n",
    "    return False"
   ]
  },
  {
   "cell_type": "code",
   "execution_count": 87,
   "metadata": {},
   "outputs": [],
   "source": [
    "output_dir = \"day14_frames\"\n",
    "os.makedirs(output_dir, exist_ok=True)"
   ]
  },
  {
   "cell_type": "code",
   "execution_count": 85,
   "metadata": {},
   "outputs": [],
   "source": [
    "video_file = \"day14_video.avi\"\n",
    "fps = 2 \n",
    "frame_size = (width, height)\n",
    "\n",
    "# Initialize video writer\n",
    "fourcc = cv2.VideoWriter_fourcc(*'XVID')\n",
    "video_writer = cv2.VideoWriter(video_file, fourcc, fps, (frame_size[1], frame_size[0]), isColor=False)"
   ]
  },
  {
   "cell_type": "code",
   "execution_count": 88,
   "metadata": {},
   "outputs": [],
   "source": [
    "positions = [tuple(agent['position']) for agent in coordinates]\n",
    "deltas = [tuple(agent['movement']) for agent in coordinates]\n",
    "\n",
    "for i in range(10000):\n",
    "    matrix = np.zeros((width, height), dtype=int)\n",
    "    new_positions = []\n",
    "    for j, delta in enumerate(deltas):\n",
    "        x, y = positions[j]\n",
    "        end_position = simulate_agent(grid, x, y, delta, n_rounds=1)\n",
    "        new_x = int(end_position[0])\n",
    "        new_y = int(end_position[1])\n",
    "        matrix[new_x, new_y] = 1\n",
    "        new_positions.append((new_x, new_y))\n",
    "        \n",
    "    im = Image.fromarray((matrix * 255).astype(np.uint8))\n",
    "    im.save(os.path.join(output_dir, f\"frame_{i}.png\"))\n",
    "    # if detect_christmas_tree(matrix):\n",
    "    #     print(f\"Tree detected after rounds {i}\")\n",
    "    #     im.show()\n",
    "        \n",
    "    frame = (matrix * 255).astype(np.uint8)\n",
    "    video_writer.write(cv2.cvtColor(frame, cv2.COLOR_GRAY2BGR))\n",
    "    \n",
    "    positions = new_positions\n",
    "    \n",
    "video_writer.release()"
   ]
  },
  {
   "cell_type": "code",
   "execution_count": null,
   "metadata": {},
   "outputs": [],
   "source": []
  }
 ],
 "metadata": {
  "kernelspec": {
   "display_name": ".aoc",
   "language": "python",
   "name": "python3"
  },
  "language_info": {
   "codemirror_mode": {
    "name": "ipython",
    "version": 3
   },
   "file_extension": ".py",
   "mimetype": "text/x-python",
   "name": "python",
   "nbconvert_exporter": "python",
   "pygments_lexer": "ipython3",
   "version": "3.13.0"
  }
 },
 "nbformat": 4,
 "nbformat_minor": 2
}

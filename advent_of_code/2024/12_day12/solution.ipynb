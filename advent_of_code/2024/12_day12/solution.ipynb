{
 "cells": [
  {
   "cell_type": "code",
   "execution_count": 6,
   "metadata": {},
   "outputs": [],
   "source": [
    "import numpy as np\n",
    "from collections import Counter, deque\n",
    "from scipy.ndimage import label"
   ]
  },
  {
   "cell_type": "markdown",
   "metadata": {},
   "source": [
    "## Part 1"
   ]
  },
  {
   "cell_type": "code",
   "execution_count": 7,
   "metadata": {},
   "outputs": [],
   "source": [
    "def read_text_file_as_grid(file_path):\n",
    "    with open(file_path, 'r') as file:\n",
    "        grid = [list(line.strip()) for line in file if line.strip()]\n",
    "    return np.array(grid)"
   ]
  },
  {
   "cell_type": "code",
   "execution_count": 8,
   "metadata": {},
   "outputs": [],
   "source": [
    "input_file = \"example1.txt\"\n",
    "grid = read_text_file_as_grid(input_file)"
   ]
  },
  {
   "cell_type": "code",
   "execution_count": 9,
   "metadata": {},
   "outputs": [],
   "source": [
    "def find_regions_and_edges(grid):\n",
    "    rows, cols = grid.shape\n",
    "    visited = np.zeros_like(grid, dtype=bool)\n",
    "    results = {}\n",
    "    region_id = 1\n",
    "    \n",
    "    def calculate_cell_edges(x, y, char):\n",
    "        edges = 0\n",
    "        for nx, ny in [(x-1, y), (x+1, y), (x, y-1), (x, y+1)]:\n",
    "            if 0 <= nx < rows and 0 <= ny < cols:\n",
    "                if grid[nx, ny] != char: \n",
    "                    edges += 1\n",
    "            else:\n",
    "                edges += 1\n",
    "        return edges\n",
    "    \n",
    "    def bfs(x, y, char):\n",
    "        queue = deque([(x, y)])\n",
    "        visited[x, y] = True\n",
    "        size = 0\n",
    "        total_edges = 0\n",
    "        \n",
    "        while queue:\n",
    "            cx, cy = queue.popleft()\n",
    "            size += 1\n",
    "            total_edges += calculate_cell_edges(cx, cy, char)\n",
    "            \n",
    "            for nx, ny in [(cx-1, cy), (cx+1, cy), (cx, cy-1), (cx, cy+1)]:\n",
    "                if 0 <= nx < rows and 0 <= ny < cols:  # In bounds\n",
    "                    if not visited[nx, ny] and grid[nx, ny] == char:\n",
    "                        visited[nx, ny] = True\n",
    "                        queue.append((nx, ny))\n",
    "        \n",
    "        return size, total_edges\n",
    "    \n",
    "    for i in range(rows):\n",
    "        for j in range(cols):\n",
    "            if not visited[i, j]:\n",
    "                char = grid[i, j]\n",
    "                size, edges = bfs(i, j, char)\n",
    "                results[f'{char}-{region_id}'] = {'elements': size, 'edges': edges}\n",
    "                region_id += 1\n",
    "    \n",
    "    return results\n",
    "\n",
    "# results = find_regions_and_edges(grid)\n",
    "# for region, stats in results.items():\n",
    "#     print(f\"Region {region}: {stats}\")"
   ]
  },
  {
   "cell_type": "code",
   "execution_count": 10,
   "metadata": {},
   "outputs": [
    {
     "name": "stdout",
     "output_type": "stream",
     "text": [
      "1421958\n"
     ]
    }
   ],
   "source": [
    "input_file = \"input.txt\"\n",
    "grid = read_text_file_as_grid(input_file)\n",
    "\n",
    "results = find_regions_and_edges(grid)\n",
    "\n",
    "total_cost = 0\n",
    "for stats in results.values():\n",
    "    price = stats[\"elements\"] * stats[\"edges\"]\n",
    "    total_cost += price\n",
    "    \n",
    "print(total_cost)"
   ]
  },
  {
   "cell_type": "markdown",
   "metadata": {},
   "source": [
    "## Part 2"
   ]
  },
  {
   "cell_type": "code",
   "execution_count": 72,
   "metadata": {},
   "outputs": [],
   "source": [
    "def find_region_edges(x, y, grid, visited):\n",
    "    char = grid[x, y]\n",
    "    region = np.zeros_like(grid, dtype=bool)\n",
    "    queue = deque([(x, y)])\n",
    "    visited[x, y] = True \n",
    "    size = 0 \n",
    "    \n",
    "    while queue:\n",
    "        cx, cy = queue.popleft()\n",
    "        region[cx, cy] = True\n",
    "        size += 1\n",
    "        \n",
    "        for nx, ny in [(cx-1, cy), (cx+1, cy), (cx, cy-1), (cx, cy+1)]:\n",
    "            if 0 <= nx < grid.shape[0] and 0 <= ny < grid.shape[1]:\n",
    "                if not visited[nx, ny] and grid[nx, ny] == char:\n",
    "                    visited[nx, ny] = True\n",
    "                    queue.append((nx, ny))\n",
    "    \n",
    "    return region, size\n"
   ]
  },
  {
   "cell_type": "code",
   "execution_count": 64,
   "metadata": {},
   "outputs": [],
   "source": [
    "def count_corners(region, grid):\n",
    "    corners = 0\n",
    "    rows, cols = grid.shape\n",
    "    \n",
    "    for x, y in zip(*np.where(region)):\n",
    "        char = grid[x, y]\n",
    "        \n",
    "        neighbors = [\n",
    "            (x-1, y), (x+1, y), (x, y-1), (x, y+1),\n",
    "            (x-1, y-1), (x-1, y+1), (x+1, y-1), (x+1, y+1)\n",
    "        ]\n",
    "        \n",
    "        print(f\"char {char} at {x,y}\")\n",
    "        \n",
    "        boundary_changes = 0\n",
    "        for nx, ny in neighbors:\n",
    "            if 0 <= nx < rows and 0 <= ny < cols:\n",
    "                if grid[nx, ny] != char:\n",
    "                    # print(f\"boundary change at: {nx, ny}, {grid[nx, ny]}\")\n",
    "                    boundary_changes += 1\n",
    "        \n",
    "        if boundary_changes >= 2:\n",
    "            corners += 1\n",
    "\n",
    "    return corners"
   ]
  },
  {
   "cell_type": "code",
   "execution_count": 78,
   "metadata": {},
   "outputs": [
    {
     "name": "stdout",
     "output_type": "stream",
     "text": [
      "[(17, 2), (4, 2), (4, 2)]\n"
     ]
    }
   ],
   "source": [
    "input_file = \"example2.txt\"\n",
    "grid = read_text_file_as_grid(input_file)\n",
    "visited = np.zeros_like(grid, dtype=bool)\n",
    "\n",
    "region_info = []\n",
    "\n",
    "for x in range(grid.shape[0]):\n",
    "    for y in range(grid.shape[1]):\n",
    "        if not visited[x, y]:\n",
    "            region, size = find_region_edges(x, y, grid, visited)\n",
    "            corners = count_corners(region, grid)\n",
    "            region_info.append((size, corners))\n",
    "\n",
    "# total_cost = 0\n",
    "# for size, corner in region_info:\n",
    "#     price = size * corner\n",
    "#     total_cost += price\n",
    "    \n",
    "print(region_info)"
   ]
  },
  {
   "cell_type": "code",
   "execution_count": null,
   "metadata": {},
   "outputs": [],
   "source": []
  }
 ],
 "metadata": {
  "kernelspec": {
   "display_name": ".aoc",
   "language": "python",
   "name": "python3"
  },
  "language_info": {
   "codemirror_mode": {
    "name": "ipython",
    "version": 3
   },
   "file_extension": ".py",
   "mimetype": "text/x-python",
   "name": "python",
   "nbconvert_exporter": "python",
   "pygments_lexer": "ipython3",
   "version": "3.13.0"
  }
 },
 "nbformat": 4,
 "nbformat_minor": 2
}

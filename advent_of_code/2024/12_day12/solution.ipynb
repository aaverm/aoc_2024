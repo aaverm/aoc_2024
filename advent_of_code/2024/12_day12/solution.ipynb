{
 "cells": [
  {
   "cell_type": "code",
   "execution_count": 71,
   "metadata": {},
   "outputs": [],
   "source": [
    "import numpy as np\n",
    "from collections import Counter, deque\n",
    "from scipy.ndimage import label"
   ]
  },
  {
   "cell_type": "markdown",
   "metadata": {},
   "source": [
    "## Part 1"
   ]
  },
  {
   "cell_type": "code",
   "execution_count": 2,
   "metadata": {},
   "outputs": [],
   "source": [
    "def read_text_file_as_grid(file_path):\n",
    "    with open(file_path, 'r') as file:\n",
    "        grid = [list(line.strip()) for line in file if line.strip()]\n",
    "    return np.array(grid)"
   ]
  },
  {
   "cell_type": "code",
   "execution_count": 3,
   "metadata": {},
   "outputs": [],
   "source": [
    "input_file = \"example1.txt\"\n",
    "grid = read_text_file_as_grid(input_file)"
   ]
  },
  {
   "cell_type": "code",
   "execution_count": null,
   "metadata": {},
   "outputs": [
    {
     "name": "stdout",
     "output_type": "stream",
     "text": [
      "Region C-1: {'elements': np.int64(14), 'edges': 28}\n",
      "Region C-2: {'elements': np.int64(1), 'edges': 4}\n",
      "Region E-1: {'elements': np.int64(13), 'edges': 18}\n",
      "Region F-1: {'elements': np.int64(10), 'edges': 18}\n",
      "Region I-1: {'elements': np.int64(4), 'edges': 8}\n",
      "Region I-2: {'elements': np.int64(14), 'edges': 22}\n",
      "Region J-1: {'elements': np.int64(11), 'edges': 20}\n",
      "Region M-1: {'elements': np.int64(5), 'edges': 12}\n",
      "Region R-1: {'elements': np.int64(12), 'edges': 18}\n",
      "Region S-1: {'elements': np.int64(3), 'edges': 8}\n",
      "Region V-1: {'elements': np.int64(13), 'edges': 20}\n"
     ]
    }
   ],
   "source": [
    "def calculate_edges(region, grid):\n",
    "    edges = 0\n",
    "    for x, y in zip(*np.where(region)):\n",
    "        if x == 0 or grid[x-1, y] != grid[x, y]:  \n",
    "            edges += 1\n",
    "        if x == grid.shape[0]-1 or grid[x+1, y] != grid[x, y]: \n",
    "            edges += 1\n",
    "        if y == 0 or grid[x, y-1] != grid[x, y]:\n",
    "            edges += 1\n",
    "        if y == grid.shape[1]-1 or grid[x, y+1] != grid[x, y]:\n",
    "            edges += 1\n",
    "    return edges\n",
    "\n",
    "def find_regions_and_edges(grid):\n",
    "    \"\"\"\n",
    "    Identifies regions in the grid and computes their sizes and edge counts.\n",
    "    \"\"\"\n",
    "    unique_chars = np.unique(grid)\n",
    "    results = {}\n",
    "\n",
    "    for char in unique_chars:\n",
    "        mask = (grid == char)\n",
    "\n",
    "        labeled_array, num_features = label(mask)\n",
    "        \n",
    "        for region_id in range(1, num_features + 1):\n",
    "            region = (labeled_array == region_id)\n",
    "            \n",
    "            num_elements = np.sum(region)\n",
    "            num_edges = calculate_edges(region, grid)\n",
    "            \n",
    "            results[f'{char}-{region_id}'] = {\n",
    "                'elements': num_elements,\n",
    "                'edges': num_edges\n",
    "            }\n",
    "    \n",
    "    return results\n",
    "\n",
    "results = find_regions_and_edges(grid)\n",
    "for region, stats in results.items():\n",
    "    print(f\"Region {region}: {stats}\")\n"
   ]
  },
  {
   "cell_type": "code",
   "execution_count": null,
   "metadata": {},
   "outputs": [],
   "source": [
    "def find_regions_and_edges_manual(grid):\n",
    "    rows, cols = grid.shape\n",
    "    visited = np.zeros_like(grid, dtype=bool)\n",
    "    results = {}\n",
    "    region_id = 1\n",
    "    \n",
    "    def calculate_cell_edges(x, y, char):\n",
    "        edges = 0\n",
    "        for nx, ny in [(x-1, y), (x+1, y), (x, y-1), (x, y+1)]:\n",
    "            if 0 <= nx < rows and 0 <= ny < cols:\n",
    "                if grid[nx, ny] != char: \n",
    "                    edges += 1\n",
    "            else:\n",
    "                edges += 1\n",
    "        return edges\n",
    "    \n",
    "    def bfs(x, y, char):\n",
    "        queue = deque([(x, y)])\n",
    "        visited[x, y] = True\n",
    "        size = 0\n",
    "        total_edges = 0\n",
    "        \n",
    "        while queue:\n",
    "            cx, cy = queue.popleft()\n",
    "            size += 1\n",
    "            total_edges += calculate_cell_edges(cx, cy, char)\n",
    "            \n",
    "            # Check 4-connected neighbors\n",
    "            for nx, ny in [(cx-1, cy), (cx+1, cy), (cx, cy-1), (cx, cy+1)]:\n",
    "                if 0 <= nx < rows and 0 <= ny < cols:  # In bounds\n",
    "                    if not visited[nx, ny] and grid[nx, ny] == char:\n",
    "                        visited[nx, ny] = True\n",
    "                        queue.append((nx, ny))\n",
    "        \n",
    "        return size, total_edges\n",
    "    \n",
    "    for i in range(rows):\n",
    "        for j in range(cols):\n",
    "            if not visited[i, j]:  # Found a new region\n",
    "                char = grid[i, j]\n",
    "                size, edges = bfs(i, j, char)\n",
    "                results[f'{char}-{region_id}'] = {'elements': size, 'edges': edges}\n",
    "                region_id += 1\n",
    "    \n",
    "    return results\n",
    "\n",
    "# results = find_regions_and_edges_manual(grid)\n",
    "# for region, stats in results.items():\n",
    "#     print(f\"Region {region}: {stats}\")"
   ]
  },
  {
   "cell_type": "code",
   "execution_count": 9,
   "metadata": {},
   "outputs": [
    {
     "name": "stdout",
     "output_type": "stream",
     "text": [
      "1421958\n"
     ]
    }
   ],
   "source": [
    "input_file = \"input.txt\"\n",
    "grid = read_text_file_as_grid(input_file)\n",
    "\n",
    "results = find_regions_and_edges_manual(grid)\n",
    "\n",
    "total_cost = 0\n",
    "for stats in results.values():\n",
    "    price = stats[\"elements\"] * stats[\"edges\"]\n",
    "    total_cost += price\n",
    "    \n",
    "print(total_cost)"
   ]
  },
  {
   "cell_type": "markdown",
   "metadata": {},
   "source": [
    "## Part 2"
   ]
  },
  {
   "cell_type": "code",
   "execution_count": 72,
   "metadata": {},
   "outputs": [],
   "source": [
    "def find_region_edges(x, y, grid, visited):\n",
    "    \"\"\"\n",
    "    Perform BFS to find all cells in the region starting from (x, y).\n",
    "    Marks visited cells and returns the region size.\n",
    "    \"\"\"\n",
    "    char = grid[x, y]\n",
    "    region = np.zeros_like(grid, dtype=bool)\n",
    "    queue = deque([(x, y)])\n",
    "    visited[x, y] = True \n",
    "    size = 0 \n",
    "    \n",
    "    while queue:\n",
    "        cx, cy = queue.popleft()\n",
    "        region[cx, cy] = True\n",
    "        size += 1\n",
    "        \n",
    "        for nx, ny in [(cx-1, cy), (cx+1, cy), (cx, cy-1), (cx, cy+1)]:\n",
    "            if 0 <= nx < grid.shape[0] and 0 <= ny < grid.shape[1]:\n",
    "                if not visited[nx, ny] and grid[nx, ny] == char:\n",
    "                    visited[nx, ny] = True\n",
    "                    queue.append((nx, ny))\n",
    "    \n",
    "    return region, size\n"
   ]
  },
  {
   "cell_type": "code",
   "execution_count": 64,
   "metadata": {},
   "outputs": [],
   "source": [
    "def calculate_corners(region, grid):\n",
    "    \"\"\"\n",
    "    Calculates the number of corners for a region in the grid.\n",
    "    A corner is a location where a boundary of the region changes direction.\n",
    "    \"\"\"\n",
    "    corners = 0\n",
    "    rows, cols = grid.shape\n",
    "    \n",
    "    # Iterate over all cells in the region\n",
    "    for x, y in zip(*np.where(region)):\n",
    "        char = grid[x, y]\n",
    "        \n",
    "        # Check the 8 surrounding cells to determine if there's a boundary change\n",
    "        neighbors = [\n",
    "            (x-1, y), (x+1, y), (x, y-1), (x, y+1),  # up, down, left, right\n",
    "            (x-1, y-1), (x-1, y+1), (x+1, y-1), (x+1, y+1)  # 4 diagonals\n",
    "        ]\n",
    "        \n",
    "        print(f\"char {char} at {x,y}\")\n",
    "        \n",
    "        # To determine if it's a corner, we check if there is a change in boundary direction\n",
    "        boundary_changes = 0\n",
    "        for nx, ny in neighbors:\n",
    "            if 0 <= nx < rows and 0 <= ny < cols:\n",
    "                if grid[nx, ny] != char:  # Neighbor is outside the region\n",
    "                    print(f\"boundary change at: {nx, ny}, {grid[nx, ny]}\")\n",
    "                    boundary_changes += 1\n",
    "        \n",
    "        # A corner requires at least two changes in direction\n",
    "        if boundary_changes >= 2:\n",
    "            corners += 1\n",
    "\n",
    "    return corners"
   ]
  },
  {
   "cell_type": "code",
   "execution_count": 77,
   "metadata": {},
   "outputs": [],
   "source": [
    "def count_corners(grid, region):\n",
    "    rows, cols = grid.shape\n",
    "    corner_count = 0\n",
    "    \n",
    "    # Iterate over all cells in the region\n",
    "    for x, y in zip(*np.where(region)):\n",
    "        char = grid[x, y]\n",
    "        directions = [(-1, 0), (1, 0), (0, -1), (0, 1)] \n",
    "\n",
    "        count_same = 0\n",
    "        count_diff = 0\n",
    "        count_end = 0\n",
    "        corner = 0\n",
    "\n",
    "        for dx, dy in directions:\n",
    "            nx, ny = x + dx, y + dy\n",
    "            \n",
    "            if 0 <= nx < rows and 0 <= ny < cols:\n",
    "                if char == grid[nx, ny]:\n",
    "                    count_same += 1\n",
    "                else: \n",
    "                    count_diff += 1\n",
    "            else:\n",
    "                count_end += 1\n",
    "        \n",
    "        # Logic for corner detection based on surrounding cells\n",
    "        if count_same == 0:\n",
    "            corner = 4\n",
    "        elif count_same == 1 and (count_diff == 2 or count_end == 2):\n",
    "            corner = 2\n",
    "        elif count_same == 2 and count_end == 2:\n",
    "            corner = 2\n",
    "        elif count_same == 3:\n",
    "            corner = 2\n",
    "        else:\n",
    "            corner\n",
    "            \n",
    "    corner_count += corner\n",
    "    \n",
    "    return corner_count"
   ]
  },
  {
   "cell_type": "code",
   "execution_count": 78,
   "metadata": {},
   "outputs": [
    {
     "name": "stdout",
     "output_type": "stream",
     "text": [
      "[(17, 2), (4, 2), (4, 2)]\n"
     ]
    }
   ],
   "source": [
    "input_file = \"example2.txt\"\n",
    "grid = read_text_file_as_grid(input_file)\n",
    "visited = np.zeros_like(grid, dtype=bool)\n",
    "\n",
    "region_info = []\n",
    "\n",
    "for x in range(grid.shape[0]):\n",
    "    for y in range(grid.shape[1]):\n",
    "        if not visited[x, y]:\n",
    "            # Get region and its size\n",
    "            region, size = find_region_edges(x, y, grid, visited)\n",
    "            corners = count_corners(region, grid)\n",
    "            region_info.append((size, corners))\n",
    "\n",
    "# total_cost = 0\n",
    "# for size, corner in region_info:\n",
    "#     price = size * corner\n",
    "#     total_cost += price\n",
    "    \n",
    "print(region_info)"
   ]
  },
  {
   "cell_type": "code",
   "execution_count": null,
   "metadata": {},
   "outputs": [],
   "source": []
  }
 ],
 "metadata": {
  "kernelspec": {
   "display_name": ".aoc",
   "language": "python",
   "name": "python3"
  },
  "language_info": {
   "codemirror_mode": {
    "name": "ipython",
    "version": 3
   },
   "file_extension": ".py",
   "mimetype": "text/x-python",
   "name": "python",
   "nbconvert_exporter": "python",
   "pygments_lexer": "ipython3",
   "version": "3.13.0"
  }
 },
 "nbformat": 4,
 "nbformat_minor": 2
}

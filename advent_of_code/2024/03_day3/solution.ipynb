{
 "cells": [
  {
   "cell_type": "code",
   "execution_count": 1,
   "metadata": {},
   "outputs": [],
   "source": [
    "import re\n",
    "import pandas as pd"
   ]
  },
  {
   "cell_type": "markdown",
   "metadata": {},
   "source": [
    "## Part 1"
   ]
  },
  {
   "cell_type": "code",
   "execution_count": 2,
   "metadata": {},
   "outputs": [],
   "source": [
    "input_file = \"input.txt\"\n",
    "\n",
    "with open(input_file, \"r\") as file:\n",
    "    text = file.read()"
   ]
  },
  {
   "cell_type": "code",
   "execution_count": 3,
   "metadata": {},
   "outputs": [
    {
     "name": "stderr",
     "output_type": "stream",
     "text": [
      "<>:7: SyntaxWarning: invalid escape sequence '\\d'\n",
      "<>:7: SyntaxWarning: invalid escape sequence '\\d'\n",
      "/var/folders/12/5l0rcj_s1qscnb_mwlsf7vfh0000gn/T/ipykernel_60036/2159714704.py:7: SyntaxWarning: invalid escape sequence '\\d'\n",
      "  digit_pattern = \"(\\d{1,3},\\d{1,3})\"\n"
     ]
    },
    {
     "data": {
      "text/plain": [
       "179571322"
      ]
     },
     "execution_count": 3,
     "metadata": {},
     "output_type": "execute_result"
    }
   ],
   "source": [
    "# define pattern\n",
    "pattern = r\"(mul\\(\\d{1,3},\\d{1,3}\\))\"\n",
    "\n",
    "matches = re.findall(pattern, text)\n",
    "\n",
    "def parse_and_multiply_entry(string):\n",
    "    digit_pattern = \"(\\d{1,3},\\d{1,3})\"\n",
    "    multiplication = re.findall(digit_pattern, string)\n",
    "    num1, num2 = multiplication[0].split(\",\")\n",
    "    return int(num1)*int(num2)\n",
    "\n",
    "total_sum = 0\n",
    "\n",
    "for entry in matches:\n",
    "    result = parse_and_multiply_entry(entry)\n",
    "    total_sum += result\n",
    "    \n",
    "total_sum"
   ]
  },
  {
   "cell_type": "markdown",
   "metadata": {},
   "source": [
    "## Part 2"
   ]
  },
  {
   "cell_type": "code",
   "execution_count": 50,
   "metadata": {},
   "outputs": [],
   "source": [
    "def remove_between_stop_start(text):\n",
    "    cleaned_text = re.sub(r\"don't\\(\\).*?do\\(\\)\", \"\", text, flags=re.DOTALL)\n",
    "    cleaned_text = re.sub(r\"don't\\(\\).*?\", \"\", cleaned_text, flags=re.DOTALL)\n",
    "    return \" \".join(cleaned_text.split())"
   ]
  },
  {
   "cell_type": "code",
   "execution_count": 52,
   "metadata": {},
   "outputs": [
    {
     "name": "stdout",
     "output_type": "stream",
     "text": [
      "xmul(2,4)&mul[3,7]!^?mul(8,5))\n"
     ]
    }
   ],
   "source": [
    "example = \"xmul(2,4)&mul[3,7]!^don't()_mul(5,5)+mul(32,64](mul(11,8)undo()?mul(8,5))\"\n",
    "print(remove_between_stop_start(example))"
   ]
  },
  {
   "cell_type": "code",
   "execution_count": 53,
   "metadata": {},
   "outputs": [
    {
     "data": {
      "text/plain": [
       "103811193"
      ]
     },
     "execution_count": 53,
     "metadata": {},
     "output_type": "execute_result"
    }
   ],
   "source": [
    "with open(input_file, \"r\") as file:\n",
    "    text = file.read()\n",
    "    \n",
    "cleaned_text = remove_between_stop_start(text)\n",
    "\n",
    "pattern = r\"(mul\\(\\d{1,3},\\d{1,3}\\))\"\n",
    "matches = re.findall(pattern, cleaned_text, flags=re.DOTALL)\n",
    "\n",
    "total_sum = 0\n",
    "\n",
    "for entry in matches:\n",
    "    result = parse_and_multiply_entry(entry)\n",
    "    total_sum += result\n",
    "    \n",
    "total_sum"
   ]
  },
  {
   "cell_type": "code",
   "execution_count": null,
   "metadata": {},
   "outputs": [],
   "source": []
  }
 ],
 "metadata": {
  "kernelspec": {
   "display_name": ".aoc",
   "language": "python",
   "name": "python3"
  },
  "language_info": {
   "codemirror_mode": {
    "name": "ipython",
    "version": 3
   },
   "file_extension": ".py",
   "mimetype": "text/x-python",
   "name": "python",
   "nbconvert_exporter": "python",
   "pygments_lexer": "ipython3",
   "version": "3.13.0"
  }
 },
 "nbformat": 4,
 "nbformat_minor": 2
}

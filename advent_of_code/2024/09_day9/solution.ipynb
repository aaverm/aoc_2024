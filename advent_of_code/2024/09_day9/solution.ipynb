{
 "cells": [
  {
   "cell_type": "code",
   "execution_count": 1,
   "metadata": {},
   "outputs": [],
   "source": [
    "import numpy as np"
   ]
  },
  {
   "cell_type": "markdown",
   "metadata": {},
   "source": [
    "## Part 1"
   ]
  },
  {
   "cell_type": "code",
   "execution_count": 95,
   "metadata": {},
   "outputs": [],
   "source": [
    "input_file = \"example1.txt\"\n",
    "\n",
    "def read_text_file(file_path):\n",
    "    with open(file_path, 'r') as file:\n",
    "        text = file.readline()\n",
    "    return text"
   ]
  },
  {
   "cell_type": "code",
   "execution_count": 96,
   "metadata": {},
   "outputs": [],
   "source": [
    "text = read_text_file(input_file)"
   ]
  },
  {
   "cell_type": "code",
   "execution_count": 97,
   "metadata": {},
   "outputs": [],
   "source": [
    "converted_text = []\n",
    "counter = 0\n",
    "\n",
    "for i, char in enumerate(text):\n",
    "    if i % 2 == 0:\n",
    "        for times in range(int(char)):\n",
    "            converted_text.append(str(counter))\n",
    "        counter += 1\n",
    "    else:\n",
    "        for times in range(int(char)):\n",
    "            converted_text.append(\".\")"
   ]
  },
  {
   "cell_type": "code",
   "execution_count": 98,
   "metadata": {},
   "outputs": [],
   "source": [
    "#text_array = np.array([c for c in converted_text])\n",
    "text_array = np.array(converted_text)"
   ]
  },
  {
   "cell_type": "code",
   "execution_count": 83,
   "metadata": {},
   "outputs": [],
   "source": [
    "while np.sum(np.diff(np.nonzero((text_array == '.').astype(int))) > 1) > 0:\n",
    "    nonzeros = np.nonzero((text_array != \".\").astype(int))\n",
    "    text_array[np.argwhere(text_array == \".\")[0][0]] = text_array[nonzeros[0][-1]]\n",
    "    text_array[nonzeros[0][-1]] = \".\""
   ]
  },
  {
   "cell_type": "code",
   "execution_count": 11,
   "metadata": {},
   "outputs": [
    {
     "data": {
      "text/plain": [
       "1928"
      ]
     },
     "execution_count": 11,
     "metadata": {},
     "output_type": "execute_result"
    }
   ],
   "source": [
    "checksum = 0\n",
    "sum([int(text_array[i]) * i for i in range(text_array.shape[0]) if text_array[i] != \".\"])"
   ]
  },
  {
   "cell_type": "markdown",
   "metadata": {},
   "source": [
    "## Part 2"
   ]
  },
  {
   "cell_type": "code",
   "execution_count": 118,
   "metadata": {},
   "outputs": [],
   "source": [
    "input_file = \"input.txt\"\n",
    "\n",
    "text = read_text_file(input_file)\n",
    "\n",
    "converted_text = []\n",
    "counter = 0\n",
    "\n",
    "for i, char in enumerate(text):\n",
    "    if i % 2 == 0:\n",
    "        for times in range(int(char)):\n",
    "            converted_text.append(str(counter))\n",
    "        counter += 1\n",
    "    else:\n",
    "        for times in range(int(char)):\n",
    "            converted_text.append(\".\")\n",
    "            \n",
    "text_array = np.array(converted_text)"
   ]
  },
  {
   "cell_type": "code",
   "execution_count": null,
   "metadata": {},
   "outputs": [],
   "source": [
    "# def move_elements_to_dots(text_array, indices_to_move):\n",
    "    \n",
    "#     dot_indices = np.argwhere(text_array == \".\").flatten()\n",
    "    \n",
    "#     if len(dot_indices) == 0:\n",
    "#         return text_array\n",
    "\n",
    "#     consecutive_diffs = np.diff(dot_indices)\n",
    "#     split_index = np.argwhere(consecutive_diffs > 1)[0]\n",
    "\n",
    "#     if len(split_index) > 0:\n",
    "#         first_block_end = dot_indices[split_index[0]]\n",
    "#     else:\n",
    "#         first_block_end = dot_indices[-1] + 1\n",
    "\n",
    "#     first_block_start = dot_indices[0]\n",
    "#     first_block_length = first_block_end - first_block_start + 1\n",
    "    \n",
    "#     if len(indices_to_move) <= first_block_length:\n",
    "#         text_array[first_block_start:first_block_start + len(indices_to_move)] = text_array[indices_to_move]\n",
    "#         text_array[indices_to_move] = \".\"\n",
    "    \n",
    "#     return text_array\n",
    "\n",
    "\n",
    "# for c in reversed(range(counter)):\n",
    "#     indices_to_move = np.argwhere(text_array == str(c)).flatten()\n",
    "#     print(c-1,indices_to_move)\n",
    "#     text_array = move_elements_to_dots(text_array, indices_to_move)\n",
    "#     print(text_array)\n"
   ]
  },
  {
   "cell_type": "code",
   "execution_count": 103,
   "metadata": {},
   "outputs": [],
   "source": [
    "def find_dot_blocks(shadow_array):\n",
    "    dot_indices = np.argwhere(shadow_array == 1).flatten()\n",
    "    if len(dot_indices) == 0:\n",
    "        return []  \n",
    "    \n",
    "    blocks = []\n",
    "    start = dot_indices[0]\n",
    "\n",
    "    for i in range(1, len(dot_indices)):\n",
    "        if dot_indices[i] != dot_indices[i - 1] + 1:\n",
    "            blocks.append((start, dot_indices[i - 1]))\n",
    "            start = dot_indices[i]\n",
    "\n",
    "    blocks.append((start, dot_indices[-1]))\n",
    "    return blocks\n",
    "\n",
    "def move_elements_to_dots(text_array, shadow_array, indices_to_move):\n",
    "    blocks = find_dot_blocks(shadow_array)\n",
    "\n",
    "    if not blocks:\n",
    "        return text_array, shadow_array\n",
    "\n",
    "    for block_start, block_end in blocks:\n",
    "        block_length = block_end - block_start + 1\n",
    "        if len(indices_to_move) <= block_length:\n",
    "            text_array[block_start:block_start + len(indices_to_move)] = text_array[indices_to_move]\n",
    "            shadow_array[block_start:block_start + len(indices_to_move)] = 0\n",
    "            text_array[indices_to_move] = \".\"\n",
    "            break  \n",
    "    \n",
    "    return text_array, shadow_array\n",
    "\n",
    "\n",
    "shadow_array = np.array(text_array == \".\", dtype=int)\n",
    "\n",
    "\n",
    "for c in reversed(range(counter)):\n",
    "    indices_to_move = np.argwhere(text_array == str(c)).flatten()\n",
    "    if len(indices_to_move) > 0:\n",
    "        text_array, shadow_array = move_elements_to_dots(text_array, shadow_array, indices_to_move)\n"
   ]
  },
  {
   "cell_type": "code",
   "execution_count": null,
   "metadata": {},
   "outputs": [
    {
     "name": "stdout",
     "output_type": "stream",
     "text": [
      "9999 [94915 94916 94917 94918 94919 94920 94921 94922 94923]\n",
      "['0' '0' '0' ... '9999' '9999' '9999']\n",
      "9998 [94904 94905 94906 94907]\n",
      "['0' '0' '0' ... '.' '.' '.']\n",
      "9997 [94887 94888 94889 94890 94891 94892 94893 94894 94895]\n",
      "['0' '0' '0' ... '.' '.' '.']\n",
      "9996 [94877 94878 94879 94880 94881 94882 94883 94884 94885]\n",
      "['0' '0' '0' ... '.' '.' '.']\n",
      "9995 [94869 94870 94871 94872 94873]\n",
      "['0' '0' '0' ... '.' '.' '.']\n",
      "9994 [94857 94858 94859 94860 94861 94862 94863]\n",
      "['0' '0' '0' ... '.' '.' '.']\n",
      "9993 [94852]\n",
      "['0' '0' '0' ... '.' '.' '.']\n",
      "9992 [94839 94840 94841 94842 94843]\n",
      "['0' '0' '0' ... '.' '.' '.']\n",
      "9991 [94834 94835]\n",
      "['0' '0' '0' ... '.' '.' '.']\n"
     ]
    }
   ],
   "source": [
    "def find_dot_blocks(shadow_array):\n",
    "    dot_indices = np.argwhere(shadow_array == 1).flatten()\n",
    "    if len(dot_indices) == 0:\n",
    "        return []  # No available blocks\n",
    "\n",
    "    # Identify blocks of consecutive dots\n",
    "    blocks = []\n",
    "    start = dot_indices[0]\n",
    "\n",
    "    for i in range(1, len(dot_indices)):\n",
    "        if dot_indices[i] != dot_indices[i - 1] + 1:\n",
    "            blocks.append((start, dot_indices[i - 1]))\n",
    "            start = dot_indices[i]\n",
    "\n",
    "    # Append the last block\n",
    "    blocks.append((start, dot_indices[-1]))\n",
    "    return blocks\n",
    "\n",
    "# Function to move elements to available dot blocks\n",
    "def move_elements_to_dots(text_array, shadow_array, indices_to_move):\n",
    "    blocks = find_dot_blocks(shadow_array)\n",
    "\n",
    "    if not blocks:\n",
    "        return text_array, shadow_array  # No blocks available\n",
    "\n",
    "    for block_start, block_end in blocks:\n",
    "        block_length = block_end - block_start + 1\n",
    "        if len(indices_to_move) <= block_length:\n",
    "            # Place the elements into the block\n",
    "            text_array[block_start:block_start + len(indices_to_move)] = text_array[indices_to_move]\n",
    "            # Update shadow array: mark these dots as used\n",
    "            shadow_array[block_start:block_start + len(indices_to_move)] = 0\n",
    "            # Replace the original indices with dots\n",
    "            text_array[indices_to_move] = \".\"\n",
    "            break  # Stop once we have placed the elements\n",
    "    \n",
    "    return text_array, shadow_array\n",
    "\n",
    "# Shadow array to track available dots\n",
    "shadow_array = np.array(text_array == \".\", dtype=int)\n",
    "\n",
    "# Move blocks iteratively\n",
    "for c in reversed(range(counter)):\n",
    "    indices_to_move = np.argwhere(text_array == str(c)).flatten()\n",
    "    if c > 9990:\n",
    "        print(f\"{c} {indices_to_move}\")  # Debugging output\n",
    "        print(text_array)\n",
    "    if len(indices_to_move) > 0:\n",
    "        text_array, shadow_array = move_elements_to_dots(text_array, shadow_array, indices_to_move)\n"
   ]
  },
  {
   "cell_type": "code",
   "execution_count": null,
   "metadata": {},
   "outputs": [
    {
     "data": {
      "text/plain": [
       "8528125309857"
      ]
     },
     "execution_count": 108,
     "metadata": {},
     "output_type": "execute_result"
    }
   ],
   "source": [
    "checksum = 0\n",
    "sum([int(text_array[i]) * i for i in range(text_array.shape[0]) if text_array[i] != \".\"])"
   ]
  },
  {
   "cell_type": "code",
   "execution_count": null,
   "metadata": {},
   "outputs": [],
   "source": []
  }
 ],
 "metadata": {
  "kernelspec": {
   "display_name": "Python 3",
   "language": "python",
   "name": "python3"
  },
  "language_info": {
   "codemirror_mode": {
    "name": "ipython",
    "version": 3
   },
   "file_extension": ".py",
   "mimetype": "text/x-python",
   "name": "python",
   "nbconvert_exporter": "python",
   "pygments_lexer": "ipython3",
   "version": "3.10.8"
  }
 },
 "nbformat": 4,
 "nbformat_minor": 2
}

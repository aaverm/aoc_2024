{
 "cells": [
  {
   "cell_type": "code",
   "execution_count": 14,
   "metadata": {},
   "outputs": [],
   "source": [
    "import numpy as np\n",
    "\n",
    "from itertools import combinations"
   ]
  },
  {
   "cell_type": "markdown",
   "metadata": {},
   "source": [
    "## Part1"
   ]
  },
  {
   "cell_type": "code",
   "execution_count": null,
   "metadata": {},
   "outputs": [],
   "source": [
    "def read_text_file_as_grid(file_path):\n",
    "    with open(file_path, 'r') as file:\n",
    "        grid = [list(line.strip()) for line in file if line.strip()]\n",
    "    return np.array(grid)"
   ]
  },
  {
   "cell_type": "code",
   "execution_count": 28,
   "metadata": {},
   "outputs": [],
   "source": [
    "def find_search_cars(grid):\n",
    "    chars, counts = np.unique(grid, return_counts=True)\n",
    "    search_chars = [char for char, count in zip(chars, counts) if char != '.' and count > 1]\n",
    "    \n",
    "    return search_chars\n",
    "\n",
    "def is_inside_grid(grid, x, y):\n",
    "    rows, cols = grid.shape\n",
    "    return 0 <= x < rows and 0 <= y < cols\n",
    "\n",
    "def find_wrapping_coordinates(puzzle, search_chars):\n",
    "    \n",
    "    wrapping_coords = set()\n",
    "    \n",
    "    for search_char in search_chars:\n",
    "        coordinates = np.argwhere(puzzle == search_char)\n",
    "\n",
    "        for coord1, coord2 in combinations(coordinates, 2):\n",
    "            \n",
    "            vector_diff = coord2 - coord1\n",
    "            wrap1 = coord2 + vector_diff\n",
    "            wrap2 = coord1 - vector_diff\n",
    "            \n",
    "            if is_inside_grid(puzzle, wrap1[0], wrap1[1]):\n",
    "                wrapping_coords.add(tuple(wrap1))\n",
    "            if is_inside_grid(puzzle, wrap2[0], wrap2[1]):\n",
    "                wrapping_coords.add(tuple(wrap2))\n",
    "            \n",
    "    return wrapping_coords"
   ]
  },
  {
   "cell_type": "code",
   "execution_count": 32,
   "metadata": {},
   "outputs": [],
   "source": [
    "input_file = \"input.txt\"\n",
    "\n",
    "puzzle = read_text_file_as_grid(input_file)\n",
    "search_chars = find_search_cars(puzzle)\n",
    "\n",
    "result = find_wrapping_coordinates(puzzle, search_chars)\n",
    "\n",
    "# Display the puzzle with wrapping coordinates marked as '#'\n",
    "# out = puzzle.copy()\n",
    "# for coord in result:\n",
    "#     out[coord[0], coord[1]] = '#'\n",
    "\n",
    "# print(\"\\n\".join(\"\".join(row) for row in out))\n"
   ]
  },
  {
   "cell_type": "code",
   "execution_count": 33,
   "metadata": {},
   "outputs": [
    {
     "data": {
      "text/plain": [
       "244"
      ]
     },
     "execution_count": 33,
     "metadata": {},
     "output_type": "execute_result"
    }
   ],
   "source": [
    "len(result)"
   ]
  },
  {
   "cell_type": "markdown",
   "metadata": {},
   "source": [
    "## Part 2"
   ]
  },
  {
   "cell_type": "code",
   "execution_count": 39,
   "metadata": {},
   "outputs": [],
   "source": [
    "def find_wrapping_coordinates_p2(puzzle, search_chars):\n",
    "    \n",
    "    wrapping_coords = set()\n",
    "    \n",
    "    for search_char in search_chars:\n",
    "        coordinates = np.argwhere(puzzle == search_char)\n",
    "\n",
    "        for coord1, coord2 in combinations(coordinates, 2):\n",
    "            \n",
    "            vector_diff = coord2 - coord1\n",
    "            \n",
    "            [wrapping_coords.add(tuple(coord)) for coord in coordinates]\n",
    "            \n",
    "            # for wrap in [coord2 + vector_diff, coord1 - vector_diff, coord2 - vector_diff, coord1 + vector_diff]:\n",
    "            #     if is_inside_grid(puzzle, wrap[0], wrap[1]):\n",
    "            #         wrapping_coords.add(tuple(wrap))\n",
    "            \n",
    "            current_coord = coord1 - vector_diff\n",
    "            while is_inside_grid(puzzle, current_coord[0], current_coord[1]):\n",
    "                wrapping_coords.add(tuple(current_coord))\n",
    "                current_coord = current_coord - vector_diff\n",
    "\n",
    "            current_coord = coord2 + vector_diff\n",
    "            while is_inside_grid(puzzle, current_coord[0], current_coord[1]):\n",
    "                wrapping_coords.add(tuple(current_coord))\n",
    "                current_coord = current_coord + vector_diff\n",
    "            \n",
    "    return wrapping_coords"
   ]
  },
  {
   "cell_type": "code",
   "execution_count": 41,
   "metadata": {},
   "outputs": [
    {
     "data": {
      "text/plain": [
       "912"
      ]
     },
     "execution_count": 41,
     "metadata": {},
     "output_type": "execute_result"
    }
   ],
   "source": [
    "input_file = \"input.txt\"\n",
    "\n",
    "puzzle = read_text_file_as_grid(input_file)\n",
    "search_chars = find_search_cars(puzzle)\n",
    "\n",
    "result = find_wrapping_coordinates_p2(puzzle, search_chars)\n",
    "\n",
    "len(result)"
   ]
  }
 ],
 "metadata": {
  "kernelspec": {
   "display_name": ".aoc",
   "language": "python",
   "name": "python3"
  },
  "language_info": {
   "codemirror_mode": {
    "name": "ipython",
    "version": 3
   },
   "file_extension": ".py",
   "mimetype": "text/x-python",
   "name": "python",
   "nbconvert_exporter": "python",
   "pygments_lexer": "ipython3",
   "version": "3.10.16"
  }
 },
 "nbformat": 4,
 "nbformat_minor": 2
}

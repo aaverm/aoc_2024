{
 "cells": [
  {
   "cell_type": "code",
   "execution_count": 15,
   "metadata": {},
   "outputs": [],
   "source": [
    "import numpy as np\n",
    "import itertools"
   ]
  },
  {
   "cell_type": "markdown",
   "metadata": {},
   "source": [
    "## Part1"
   ]
  },
  {
   "cell_type": "code",
   "execution_count": null,
   "metadata": {},
   "outputs": [],
   "source": [
    "input_file = \"example1.txt\"\n",
    "\n",
    "def parse_file(file_path):\n",
    "    values = [] \n",
    "    numbers = []\n",
    "\n",
    "    with open(file_path, 'r') as file:\n",
    "        lines = file.readlines()\n",
    "\n",
    "    for line in lines:\n",
    "        line = line.strip()\n",
    "        \n",
    "        value, nums = line.split(':')\n",
    "        \n",
    "        values.append(int(value))\n",
    "        numbers.append([int(x) for x in nums.split(' ') if x != ''])\n",
    "\n",
    "    return values, numbers"
   ]
  },
  {
   "cell_type": "code",
   "execution_count": 14,
   "metadata": {},
   "outputs": [],
   "source": [
    "test_values, numbers = parse_file(input_file)"
   ]
  },
  {
   "cell_type": "code",
   "execution_count": 21,
   "metadata": {},
   "outputs": [
    {
     "name": "stdout",
     "output_type": "stream",
     "text": [
      "Valid Test Values: [190, 3267, 292]\n"
     ]
    }
   ],
   "source": [
    "def generate_operator_permutations(num_operators):\n",
    "    operators = ['+', '*']\n",
    "    return itertools.product(operators, repeat=num_operators)\n",
    "\n",
    "def evaluate_operations(nums, ops):\n",
    "    result = nums[0]\n",
    "    for num, op in zip(nums[1:], ops):\n",
    "        if op == '+':\n",
    "            result += num\n",
    "        elif op == '*':\n",
    "            result *= num\n",
    "    return result\n",
    "\n",
    "def find_valid_test_values(numbers, test_values):\n",
    "    \"\"\"\n",
    "    Finds which test_values can be achieved by any permutation of '+' and '*' on numbers.\n",
    "    \"\"\"\n",
    "    valid_values = []\n",
    "    \n",
    "    for i, nums in enumerate(numbers):\n",
    "        test_value = test_values[i]\n",
    "        num_operators = len(nums) - 1\n",
    "        operator_permutations = generate_operator_permutations(num_operators)\n",
    "        \n",
    "        for ops in operator_permutations:\n",
    "            result = evaluate_operations(nums, ops)\n",
    "            if result == test_value:\n",
    "                valid_values.append(test_value)\n",
    "                break\n",
    "    \n",
    "    return valid_values\n",
    "\n",
    "valid_values = find_valid_test_values(numbers, test_values)\n",
    "print(\"Valid Test Values:\", valid_values)\n"
   ]
  },
  {
   "cell_type": "code",
   "execution_count": 22,
   "metadata": {},
   "outputs": [
    {
     "name": "stdout",
     "output_type": "stream",
     "text": [
      "1545311493300\n"
     ]
    }
   ],
   "source": [
    "input_file = \"input.txt\"\n",
    "\n",
    "test_values, numbers = parse_file(input_file)\n",
    "valid_values = find_valid_test_values(numbers, test_values)\n",
    "\n",
    "print(sum(valid_values))"
   ]
  },
  {
   "cell_type": "markdown",
   "metadata": {},
   "source": [
    "## Part 2"
   ]
  },
  {
   "cell_type": "code",
   "execution_count": 29,
   "metadata": {},
   "outputs": [],
   "source": [
    "input_file = \"input.txt\""
   ]
  }
 ],
 "metadata": {
  "kernelspec": {
   "display_name": ".aoc",
   "language": "python",
   "name": "python3"
  },
  "language_info": {
   "codemirror_mode": {
    "name": "ipython",
    "version": 3
   },
   "file_extension": ".py",
   "mimetype": "text/x-python",
   "name": "python",
   "nbconvert_exporter": "python",
   "pygments_lexer": "ipython3",
   "version": "3.10.16"
  }
 },
 "nbformat": 4,
 "nbformat_minor": 2
}

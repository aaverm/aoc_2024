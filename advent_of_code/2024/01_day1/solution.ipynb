{
 "cells": [
  {
   "cell_type": "code",
   "execution_count": 2,
   "metadata": {},
   "outputs": [],
   "source": [
    "import pandas as pd"
   ]
  },
  {
   "cell_type": "code",
   "execution_count": 16,
   "metadata": {},
   "outputs": [
    {
     "name": "stderr",
     "output_type": "stream",
     "text": [
      "<>:1: SyntaxWarning: invalid escape sequence '\\s'\n",
      "<>:1: SyntaxWarning: invalid escape sequence '\\s'\n",
      "/var/folders/12/5l0rcj_s1qscnb_mwlsf7vfh0000gn/T/ipykernel_59290/3112718057.py:1: SyntaxWarning: invalid escape sequence '\\s'\n",
      "  df = pd.read_csv(\"example1.txt\", sep='\\s+', header=None, names=[\"array1\", \"array2\"])\n"
     ]
    }
   ],
   "source": [
    "df = pd.read_csv(\"example1.txt\", sep='\\s+', header=None, names=[\"array1\", \"array2\"])"
   ]
  },
  {
   "cell_type": "code",
   "execution_count": 17,
   "metadata": {},
   "outputs": [],
   "source": [
    "df[\"a1\"] = sorted(df[\"array1\"].to_list())\n",
    "df[\"a2\"] = sorted(df[\"array2\"].to_list())\n",
    "df[\"array_diff\"] = abs(df[\"a1\"]-df[\"a2\"]) "
   ]
  },
  {
   "cell_type": "code",
   "execution_count": 13,
   "metadata": {},
   "outputs": [
    {
     "data": {
      "text/plain": [
       "np.int64(11)"
      ]
     },
     "execution_count": 13,
     "metadata": {},
     "output_type": "execute_result"
    }
   ],
   "source": [
    "df[\"array_diff\"].sum()"
   ]
  },
  {
   "cell_type": "code",
   "execution_count": 15,
   "metadata": {},
   "outputs": [
    {
     "name": "stderr",
     "output_type": "stream",
     "text": [
      "<>:2: SyntaxWarning: invalid escape sequence '\\s'\n",
      "<>:2: SyntaxWarning: invalid escape sequence '\\s'\n",
      "/var/folders/12/5l0rcj_s1qscnb_mwlsf7vfh0000gn/T/ipykernel_59290/2039504137.py:2: SyntaxWarning: invalid escape sequence '\\s'\n",
      "  df = pd.read_csv(input_file, sep='\\s+', header=None, names=[\"array1\", \"array2\"])\n"
     ]
    },
    {
     "data": {
      "text/plain": [
       "np.int64(1651298)"
      ]
     },
     "execution_count": 15,
     "metadata": {},
     "output_type": "execute_result"
    }
   ],
   "source": [
    "def calculate_diff(input_file):\n",
    "    df = pd.read_csv(input_file, sep='\\s+', header=None, names=[\"array1\", \"array2\"])\n",
    "    \n",
    "    df[\"a1\"] = sorted(df[\"array1\"].to_list())\n",
    "    df[\"a2\"] = sorted(df[\"array2\"].to_list())\n",
    "    df[\"array_diff\"] = abs(df[\"a1\"]-df[\"a2\"])\n",
    "    \n",
    "    return df[\"array_diff\"].sum()\n",
    "\n",
    "calculate_diff(\"input.txt\")"
   ]
  },
  {
   "cell_type": "markdown",
   "metadata": {},
   "source": [
    "## Part 2"
   ]
  },
  {
   "cell_type": "code",
   "execution_count": 19,
   "metadata": {},
   "outputs": [
    {
     "name": "stdout",
     "output_type": "stream",
     "text": [
      "   array1  array2  a1  a2  array_diff  count\n",
      "0       3       4   1   3           2      3\n",
      "1       4       3   2   3           1      1\n",
      "2       2       5   3   3           0      0\n",
      "3       1       3   3   4           1      0\n",
      "4       3       9   3   5           2      3\n",
      "5       3       3   4   9           5      3\n"
     ]
    }
   ],
   "source": [
    "# Create a list from Store_2\n",
    "a2_list = df['array2'].tolist()\n",
    "df['count'] = df['array1'].apply(lambda x: a2_list.count(x))\n",
    "\n",
    "print(df)"
   ]
  },
  {
   "cell_type": "code",
   "execution_count": 20,
   "metadata": {},
   "outputs": [
    {
     "data": {
      "text/plain": [
       "np.int64(31)"
      ]
     },
     "execution_count": 20,
     "metadata": {},
     "output_type": "execute_result"
    }
   ],
   "source": [
    "df[\"sim_score\"] = df['array1'] * df['count']\n",
    "df[\"sim_score\"].sum()"
   ]
  },
  {
   "cell_type": "code",
   "execution_count": 21,
   "metadata": {},
   "outputs": [
    {
     "name": "stderr",
     "output_type": "stream",
     "text": [
      "<>:2: SyntaxWarning: invalid escape sequence '\\s'\n",
      "<>:2: SyntaxWarning: invalid escape sequence '\\s'\n",
      "/var/folders/12/5l0rcj_s1qscnb_mwlsf7vfh0000gn/T/ipykernel_59290/1090281582.py:2: SyntaxWarning: invalid escape sequence '\\s'\n",
      "  df = pd.read_csv(input_file, sep='\\s+', header=None, names=[\"array1\", \"array2\"])\n"
     ]
    },
    {
     "data": {
      "text/plain": [
       "np.int64(21306195)"
      ]
     },
     "execution_count": 21,
     "metadata": {},
     "output_type": "execute_result"
    }
   ],
   "source": [
    "def calculate_sim_score(input_file):\n",
    "    df = pd.read_csv(input_file, sep='\\s+', header=None, names=[\"array1\", \"array2\"])\n",
    "    \n",
    "    a2_list = df['array2'].tolist()\n",
    "    df['count'] = df['array1'].apply(lambda x: a2_list.count(x))\n",
    "    \n",
    "    df[\"sim_score\"] = df['array1'] * df['count']    \n",
    "    \n",
    "    return df[\"sim_score\"].sum()\n",
    "\n",
    "calculate_sim_score(\"input.txt\")"
   ]
  },
  {
   "cell_type": "code",
   "execution_count": null,
   "metadata": {},
   "outputs": [],
   "source": []
  }
 ],
 "metadata": {
  "kernelspec": {
   "display_name": "aoc",
   "language": "python",
   "name": "python3"
  },
  "language_info": {
   "codemirror_mode": {
    "name": "ipython",
    "version": 3
   },
   "file_extension": ".py",
   "mimetype": "text/x-python",
   "name": "python",
   "nbconvert_exporter": "python",
   "pygments_lexer": "ipython3",
   "version": "3.12.7"
  }
 },
 "nbformat": 4,
 "nbformat_minor": 2
}

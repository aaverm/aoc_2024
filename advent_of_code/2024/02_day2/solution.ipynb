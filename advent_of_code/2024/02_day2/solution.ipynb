{
 "cells": [
  {
   "cell_type": "code",
   "execution_count": 6,
   "metadata": {},
   "outputs": [],
   "source": [
    "import pandas as pd\n",
    "import numpy as np"
   ]
  },
  {
   "cell_type": "markdown",
   "metadata": {},
   "source": [
    "## Part 1"
   ]
  },
  {
   "cell_type": "code",
   "execution_count": 10,
   "metadata": {},
   "outputs": [],
   "source": [
    "def is_increasing(sequence):\n",
    "    \"\"\"Check if a sequence of numbers is strictly increasing.\"\"\"\n",
    "    return all(sequence[i] < sequence[i + 1] for i in range(len(sequence) - 1))\n",
    "\n",
    "def is_decreasing(sequence):\n",
    "    \"\"\"Check if a sequence of numbers is strictly decreasing.\"\"\"\n",
    "    return all(sequence[i] > sequence[i + 1] for i in range(len(sequence) - 1))\n",
    "\n",
    "def is_in_difference_range(sequence):\n",
    "    for i in range(len(sequence) - 1):\n",
    "        diff = abs(sequence[i] - sequence[i + 1])\n",
    "        if not (0 < diff < 4):\n",
    "            return False\n",
    "    return True"
   ]
  },
  {
   "cell_type": "code",
   "execution_count": 12,
   "metadata": {},
   "outputs": [
    {
     "name": "stdout",
     "output_type": "stream",
     "text": [
      "Line 1: Safe\n",
      "Line 2: Unsafe\n",
      "Line 3: Unsafe\n",
      "Line 4: Unsafe\n",
      "Line 5: Unsafe\n",
      "Line 6: Safe\n"
     ]
    }
   ],
   "source": [
    "input_file = \"example1.txt\"\n",
    "\n",
    "# Store validation results\n",
    "validation_results = []\n",
    "valid_counter = 0\n",
    "\n",
    "with open(input_file, 'r') as file:\n",
    "    for line_number, line in enumerate(file, start=1):\n",
    "        values = line.strip().split(' ')\n",
    "        \n",
    "        try:\n",
    "            seq = [float(value) for value in values if value]\n",
    "            \n",
    "            # validate the row\n",
    "            is_valid_increasing = is_increasing(seq) & is_in_difference_range(seq)\n",
    "            is_valid_decreasing = is_decreasing(seq) & is_in_difference_range(seq)\n",
    "            is_valid = is_valid_increasing | is_valid_decreasing\n",
    "            \n",
    "            if is_valid:\n",
    "                valid_counter += 1\n",
    "            \n",
    "            validation_results.append((line_number, is_valid))\n",
    "        except ValueError as e:\n",
    "            # Handle rows with invalid numeric data\n",
    "            print(f\"Error parsing line {line_number}: {line.strip()} ({e})\")\n",
    "            validation_results.append((line_number, False, None))\n",
    "\n",
    "# Display the results\n",
    "for line_number, is_valid in validation_results:\n",
    "    print(f\"Line {line_number}: {'Safe' if is_valid else 'Unsafe'}\")\n"
   ]
  },
  {
   "cell_type": "code",
   "execution_count": 15,
   "metadata": {},
   "outputs": [],
   "source": [
    "input_file = \"input.txt\"\n",
    "\n",
    "# Store validation results\n",
    "validation_results = []\n",
    "valid_counter = 0\n",
    "\n",
    "with open(input_file, 'r') as file:\n",
    "    for line_number, line in enumerate(file, start=1):\n",
    "        values = line.strip().split(' ')\n",
    "        \n",
    "        try:\n",
    "            seq = [float(value) for value in values if value]\n",
    "            \n",
    "            # validate the row\n",
    "            is_valid_increasing = is_increasing(seq) & is_in_difference_range(seq)\n",
    "            is_valid_decreasing = is_decreasing(seq) & is_in_difference_range(seq)\n",
    "            is_valid = is_valid_increasing | is_valid_decreasing\n",
    "            \n",
    "            if is_valid:\n",
    "                valid_counter += 1\n",
    "            \n",
    "            validation_results.append((line_number, is_valid))\n",
    "        except ValueError as e:\n",
    "            # Handle rows with invalid numeric data\n",
    "            print(f\"Error parsing line {line_number}: {line.strip()} ({e})\")\n",
    "            validation_results.append((line_number, False, None))\n",
    "\n",
    "\n",
    "# for line_number, is_valid in validation_results:\n",
    "#     print(f\"Line {line_number}: {'Safe' if is_valid else 'Unsafe'}\")"
   ]
  },
  {
   "cell_type": "code",
   "execution_count": 16,
   "metadata": {},
   "outputs": [
    {
     "data": {
      "text/plain": [
       "321"
      ]
     },
     "execution_count": 16,
     "metadata": {},
     "output_type": "execute_result"
    }
   ],
   "source": [
    "valid_counter"
   ]
  },
  {
   "cell_type": "markdown",
   "metadata": {},
   "source": [
    "## Part 2"
   ]
  },
  {
   "cell_type": "code",
   "execution_count": 56,
   "metadata": {},
   "outputs": [],
   "source": [
    "def is_increasing(sequence):\n",
    "    return [sequence[i] < sequence[i + 1] for i in range(len(sequence) - 1)]\n",
    "\n",
    "def is_decreasing(sequence):\n",
    "    return [sequence[i] > sequence[i + 1] for i in range(len(sequence) - 1)]\n",
    "\n",
    "def is_array_in_difference_range(sequence):\n",
    "    diffs = np.abs(np.diff(sequence))\n",
    "    return (diffs > 0) & (diffs < 4)\n",
    "\n",
    "def contains_single_false(array):\n",
    "    false_count = np.size(array) - np.count_nonzero(array)\n",
    "    return false_count <= 1"
   ]
  },
  {
   "cell_type": "code",
   "execution_count": 68,
   "metadata": {},
   "outputs": [
    {
     "data": {
      "text/plain": [
       "False"
      ]
     },
     "execution_count": 68,
     "metadata": {},
     "output_type": "execute_result"
    }
   ],
   "source": [
    "seq = [1,6,4,5,19]\n",
    "            \n",
    "# validate the row\n",
    "a1 = is_increasing(seq)\n",
    "a2 = is_decreasing(seq)\n",
    "a3 = is_array_in_difference_range(seq)\n",
    "array_increasing = a1 & a3\n",
    "array_decreasing = a2 & a3\n",
    "\n",
    "is_valid_decreasing = contains_single_false(array_increasing)\n",
    "is_valid_increasing = contains_single_false(array_decreasing)\n",
    "is_valid_increasing | is_valid_decreasing"
   ]
  },
  {
   "cell_type": "code",
   "execution_count": 109,
   "metadata": {},
   "outputs": [],
   "source": [
    "def is_increasing(sequence):\n",
    "    \"\"\"Checks if sequence is strictly increasing\"\"\"\n",
    "    return np.array([sequence[i] < sequence[i + 1] for i in range(len(sequence) - 1)])\n",
    "\n",
    "def is_decreasing(sequence):\n",
    "    \"\"\"Checks if sequence is strictly decreasing\"\"\"\n",
    "    return np.array([sequence[i] > sequence[i + 1] for i in range(len(sequence) - 1)])\n",
    "\n",
    "def is_array_in_difference_range(sequence):\n",
    "    \"\"\"Checks if absolute difference between consecutive elements is between 0 and 4\"\"\"\n",
    "    diffs = np.abs(np.diff(sequence))\n",
    "    return (diffs > 0) & (diffs < 4)\n",
    "\n",
    "# Function to find faulty indices\n",
    "def find_faulty_indices_increasing(sequence):\n",
    "    \"\"\"Returns indices where the sequence is invalid (either increasing/decreasing or diff out of range).\"\"\"\n",
    "    \n",
    "    # Check increasing sequence validity\n",
    "    increasing_errors = np.where(~is_increasing(sequence))[0]\n",
    "    \n",
    "    # Check difference range validity\n",
    "    diff_range_errors = np.where(~is_array_in_difference_range(sequence))[0]\n",
    "    \n",
    "    # Return combined faulty indices from each check\n",
    "    return np.unique(np.concatenate([increasing_errors, diff_range_errors]))\n",
    "\n",
    "def find_faulty_indices_decreasing(sequence):\n",
    "    \"\"\"Returns indices where the sequence is invalid (either increasing/decreasing or diff out of range).\"\"\"\n",
    "    \n",
    "    # Check decreasing sequence validity\n",
    "    decreasing_errors = np.where(~is_decreasing(sequence))[0]\n",
    "    \n",
    "    # Check difference range validity\n",
    "    diff_range_errors = np.where(~is_array_in_difference_range(sequence))[0]\n",
    "    \n",
    "    # Return combined faulty indices from each check\n",
    "    return np.unique(np.concatenate([decreasing_errors, diff_range_errors]))\n"
   ]
  },
  {
   "cell_type": "code",
   "execution_count": 106,
   "metadata": {},
   "outputs": [
    {
     "name": "stdout",
     "output_type": "stream",
     "text": [
      "Line 1: Safe\n",
      "Line 2: Unsafe\n",
      "Line 3: Unsafe\n",
      "Line 4: Safe\n",
      "Line 5: Safe\n",
      "Line 6: Safe\n"
     ]
    }
   ],
   "source": [
    "input_file = \"example1.txt\"\n",
    "\n",
    "validation_results = []\n",
    "valid_counter = 0\n",
    "\n",
    "def is_valid_sequence(sequence):\n",
    "    \"\"\"Check if sequence becomes valid after removing the faulty element at faulty_index.\"\"\"\n",
    "    if np.all(is_increasing(sequence)) or np.all(is_decreasing(sequence)):\n",
    "        return np.all(is_array_in_difference_range(sequence))\n",
    "    return False\n",
    "\n",
    "def is_valid_after_removal(sequence):\n",
    "    for i in range(len(sequence)):\n",
    "        corrected_seq = sequence[:i] + sequence[i + 1:]\n",
    "        if is_valid_sequence(corrected_seq):\n",
    "            return True\n",
    "    return False\n",
    "\n",
    "with open(input_file, 'r') as file:\n",
    "    for line_number, line in enumerate(file, start=1):\n",
    "        values = line.strip().split(' ')\n",
    "        \n",
    "        try:\n",
    "            seq = [float(value) for value in values if value]\n",
    "            \n",
    "            if is_valid_sequence(seq):\n",
    "                # No faults, sequence is valid\n",
    "                is_valid = True\n",
    "            else:\n",
    "                is_valid = is_valid_after_removal(seq)\n",
    "            \n",
    "            # Count valid sequences\n",
    "            if is_valid:\n",
    "                valid_counter += 1\n",
    "            \n",
    "            validation_results.append((line_number, is_valid))\n",
    "        except ValueError as e:\n",
    "            # Handle rows with invalid numeric data\n",
    "            print(f\"Error parsing line {line_number}: {line.strip()} ({e})\")\n",
    "            validation_results.append((line_number, False))\n",
    "\n",
    "# Output results\n",
    "for line_number, is_valid in validation_results:\n",
    "    print(f\"Line {line_number}: {'Safe' if is_valid else 'Unsafe'}\")"
   ]
  },
  {
   "cell_type": "code",
   "execution_count": 107,
   "metadata": {},
   "outputs": [],
   "source": [
    "input_file = \"input.txt\"\n",
    "\n",
    "validation_results = []\n",
    "valid_counter = 0\n",
    "\n",
    "with open(input_file, 'r') as file:\n",
    "    for line_number, line in enumerate(file, start=1):\n",
    "        values = line.strip().split(' ')\n",
    "        \n",
    "        try:\n",
    "            seq = [float(value) for value in values if value]\n",
    "            \n",
    "            if is_valid_sequence(seq):\n",
    "                # No faults, sequence is valid\n",
    "                is_valid = True\n",
    "            else:\n",
    "                is_valid = is_valid_after_removal(seq)\n",
    "            \n",
    "            # Count valid sequences\n",
    "            if is_valid:\n",
    "                valid_counter += 1\n",
    "            \n",
    "            validation_results.append((line_number, is_valid))\n",
    "        except ValueError as e:\n",
    "            # Handle rows with invalid numeric data\n",
    "            print(f\"Error parsing line {line_number}: {line.strip()} ({e})\")\n",
    "            validation_results.append((line_number, False))"
   ]
  },
  {
   "cell_type": "code",
   "execution_count": 108,
   "metadata": {},
   "outputs": [
    {
     "data": {
      "text/plain": [
       "386"
      ]
     },
     "execution_count": 108,
     "metadata": {},
     "output_type": "execute_result"
    }
   ],
   "source": [
    "valid_counter"
   ]
  },
  {
   "cell_type": "code",
   "execution_count": 99,
   "metadata": {},
   "outputs": [
    {
     "data": {
      "text/plain": [
       "True"
      ]
     },
     "execution_count": 99,
     "metadata": {},
     "output_type": "execute_result"
    }
   ],
   "source": [
    "seq = [54, 55, 56, 57, 56, 62]\n",
    "\n",
    "faulty_indices_increasing = find_faulty_indices_increasing(seq)\n",
    "faulty_indices_decreasing = find_faulty_indices_decreasing(seq)\n",
    "\n",
    "if len(faulty_indices_increasing) <= len(faulty_indices_decreasing):\n",
    "    faulty_indices = faulty_indices_increasing\n",
    "else:\n",
    "    faulty_indices = faulty_indices_decreasing\n",
    "\n",
    "if len(faulty_indices) == 0:\n",
    "    # No faults, sequence is valid\n",
    "    is_valid = True\n",
    "elif len(faulty_indices) == 1:\n",
    "    # One fault, check if removing the faulty element makes it valid\n",
    "    faulty_index = faulty_indices[0]+1\n",
    "    is_valid = is_valid_after_removal(seq, faulty_index)\n",
    "    \n",
    "is_valid"
   ]
  },
  {
   "cell_type": "code",
   "execution_count": null,
   "metadata": {},
   "outputs": [],
   "source": []
  }
 ],
 "metadata": {
  "kernelspec": {
   "display_name": "aoc",
   "language": "python",
   "name": "python3"
  },
  "language_info": {
   "codemirror_mode": {
    "name": "ipython",
    "version": 3
   },
   "file_extension": ".py",
   "mimetype": "text/x-python",
   "name": "python",
   "nbconvert_exporter": "python",
   "pygments_lexer": "ipython3",
   "version": "3.12.7"
  }
 },
 "nbformat": 4,
 "nbformat_minor": 2
}

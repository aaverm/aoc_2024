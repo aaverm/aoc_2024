{
 "cells": [
  {
   "cell_type": "code",
   "execution_count": 1,
   "metadata": {},
   "outputs": [],
   "source": [
    "import pandas as pd\n",
    "import numpy as np"
   ]
  },
  {
   "cell_type": "markdown",
   "metadata": {},
   "source": [
    "## Part 1"
   ]
  },
  {
   "cell_type": "code",
   "execution_count": 2,
   "metadata": {},
   "outputs": [],
   "source": [
    "def is_increasing(sequence):\n",
    "    return all(sequence[i] < sequence[i + 1] for i in range(len(sequence) - 1))\n",
    "\n",
    "def is_decreasing(sequence):\n",
    "    return all(sequence[i] > sequence[i + 1] for i in range(len(sequence) - 1))\n",
    "\n",
    "def is_in_difference_range(sequence):\n",
    "    for i in range(len(sequence) - 1):\n",
    "        diff = abs(sequence[i] - sequence[i + 1])\n",
    "        if not (0 < diff < 4):\n",
    "            return False\n",
    "    return True"
   ]
  },
  {
   "cell_type": "code",
   "execution_count": 3,
   "metadata": {},
   "outputs": [
    {
     "name": "stdout",
     "output_type": "stream",
     "text": [
      "Line 1: Safe\n",
      "Line 2: Unsafe\n",
      "Line 3: Unsafe\n",
      "Line 4: Unsafe\n",
      "Line 5: Unsafe\n",
      "Line 6: Safe\n"
     ]
    }
   ],
   "source": [
    "input_file = \"example1.txt\"\n",
    "\n",
    "validation_results = []\n",
    "valid_counter = 0\n",
    "\n",
    "with open(input_file, 'r') as file:\n",
    "    for line_number, line in enumerate(file, start=1):\n",
    "        values = line.strip().split(' ')\n",
    "        \n",
    "        try:\n",
    "            seq = [float(value) for value in values if value]\n",
    "            \n",
    "            is_valid_increasing = is_increasing(seq) & is_in_difference_range(seq)\n",
    "            is_valid_decreasing = is_decreasing(seq) & is_in_difference_range(seq)\n",
    "            is_valid = is_valid_increasing | is_valid_decreasing\n",
    "            \n",
    "            if is_valid:\n",
    "                valid_counter += 1\n",
    "            \n",
    "            validation_results.append((line_number, is_valid))\n",
    "        except ValueError as e:\n",
    "            print(f\"Error parsing line {line_number}: {line.strip()} ({e})\")\n",
    "            validation_results.append((line_number, False, None))\n",
    "\n",
    "for line_number, is_valid in validation_results:\n",
    "    print(f\"Line {line_number}: {'Safe' if is_valid else 'Unsafe'}\")\n"
   ]
  },
  {
   "cell_type": "code",
   "execution_count": 4,
   "metadata": {},
   "outputs": [],
   "source": [
    "input_file = \"input.txt\"\n",
    "\n",
    "validation_results = []\n",
    "valid_counter = 0\n",
    "\n",
    "with open(input_file, 'r') as file:\n",
    "    for line_number, line in enumerate(file, start=1):\n",
    "        values = line.strip().split(' ')\n",
    "        \n",
    "        try:\n",
    "            seq = [float(value) for value in values if value]\n",
    "        \n",
    "            is_valid_increasing = is_increasing(seq) & is_in_difference_range(seq)\n",
    "            is_valid_decreasing = is_decreasing(seq) & is_in_difference_range(seq)\n",
    "            is_valid = is_valid_increasing | is_valid_decreasing\n",
    "            \n",
    "            if is_valid:\n",
    "                valid_counter += 1\n",
    "            \n",
    "            validation_results.append((line_number, is_valid))\n",
    "        except ValueError as e:\n",
    "            print(f\"Error parsing line {line_number}: {line.strip()} ({e})\")\n",
    "            validation_results.append((line_number, False, None))"
   ]
  },
  {
   "cell_type": "code",
   "execution_count": 5,
   "metadata": {},
   "outputs": [
    {
     "data": {
      "text/plain": [
       "321"
      ]
     },
     "execution_count": 5,
     "metadata": {},
     "output_type": "execute_result"
    }
   ],
   "source": [
    "valid_counter"
   ]
  },
  {
   "cell_type": "markdown",
   "metadata": {},
   "source": [
    "## Part 2"
   ]
  },
  {
   "cell_type": "code",
   "execution_count": 7,
   "metadata": {},
   "outputs": [],
   "source": [
    "def is_array_in_difference_range(sequence):\n",
    "    diffs = np.abs(np.diff(sequence))\n",
    "    return (diffs > 0) & (diffs < 4)\n",
    "\n",
    "def is_valid_sequence(sequence):\n",
    "    if np.all(is_increasing(sequence)) or np.all(is_decreasing(sequence)):\n",
    "        return np.all(is_array_in_difference_range(sequence))\n",
    "    return False\n",
    "\n",
    "def is_valid_after_removal(sequence):\n",
    "    for i in range(len(sequence)):\n",
    "        corrected_seq = sequence[:i] + sequence[i + 1:]\n",
    "        if is_valid_sequence(corrected_seq):\n",
    "            return True\n",
    "    return False"
   ]
  },
  {
   "cell_type": "code",
   "execution_count": 8,
   "metadata": {},
   "outputs": [
    {
     "name": "stdout",
     "output_type": "stream",
     "text": [
      "Line 1: Safe\n",
      "Line 2: Unsafe\n",
      "Line 3: Unsafe\n",
      "Line 4: Safe\n",
      "Line 5: Safe\n",
      "Line 6: Safe\n"
     ]
    }
   ],
   "source": [
    "input_file = \"example1.txt\"\n",
    "\n",
    "validation_results = []\n",
    "valid_counter = 0\n",
    "\n",
    "with open(input_file, 'r') as file:\n",
    "    for line_number, line in enumerate(file, start=1):\n",
    "        values = line.strip().split(' ')\n",
    "        \n",
    "        try:\n",
    "            seq = [float(value) for value in values if value]\n",
    "            \n",
    "            if is_valid_sequence(seq):\n",
    "                is_valid = True\n",
    "            else:\n",
    "                is_valid = is_valid_after_removal(seq)\n",
    "            \n",
    "            if is_valid:\n",
    "                valid_counter += 1\n",
    "            \n",
    "            validation_results.append((line_number, is_valid))\n",
    "        except ValueError as e:\n",
    "            print(f\"Error parsing line {line_number}: {line.strip()} ({e})\")\n",
    "            validation_results.append((line_number, False))\n",
    "\n",
    "for line_number, is_valid in validation_results:\n",
    "    print(f\"Line {line_number}: {'Safe' if is_valid else 'Unsafe'}\")"
   ]
  },
  {
   "cell_type": "code",
   "execution_count": 9,
   "metadata": {},
   "outputs": [],
   "source": [
    "input_file = \"input.txt\"\n",
    "\n",
    "validation_results = []\n",
    "valid_counter = 0\n",
    "\n",
    "with open(input_file, 'r') as file:\n",
    "    for line_number, line in enumerate(file, start=1):\n",
    "        values = line.strip().split(' ')\n",
    "        \n",
    "        try:\n",
    "            seq = [float(value) for value in values if value]\n",
    "            \n",
    "            if is_valid_sequence(seq):\n",
    "                is_valid = True\n",
    "            else:\n",
    "                is_valid = is_valid_after_removal(seq)\n",
    "            \n",
    "            if is_valid:\n",
    "                valid_counter += 1\n",
    "            \n",
    "            validation_results.append((line_number, is_valid))\n",
    "        except ValueError as e:\n",
    "            print(f\"Error parsing line {line_number}: {line.strip()} ({e})\")\n",
    "            validation_results.append((line_number, False))"
   ]
  },
  {
   "cell_type": "code",
   "execution_count": 10,
   "metadata": {},
   "outputs": [
    {
     "data": {
      "text/plain": [
       "386"
      ]
     },
     "execution_count": 10,
     "metadata": {},
     "output_type": "execute_result"
    }
   ],
   "source": [
    "valid_counter"
   ]
  }
 ],
 "metadata": {
  "kernelspec": {
   "display_name": ".aoc",
   "language": "python",
   "name": "python3"
  },
  "language_info": {
   "codemirror_mode": {
    "name": "ipython",
    "version": 3
   },
   "file_extension": ".py",
   "mimetype": "text/x-python",
   "name": "python",
   "nbconvert_exporter": "python",
   "pygments_lexer": "ipython3",
   "version": "3.13.0"
  }
 },
 "nbformat": 4,
 "nbformat_minor": 2
}

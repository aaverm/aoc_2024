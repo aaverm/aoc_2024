{
 "cells": [
  {
   "cell_type": "code",
   "execution_count": 30,
   "metadata": {},
   "outputs": [],
   "source": [
    "import numpy as np\n",
    "from collections import Counter"
   ]
  },
  {
   "cell_type": "markdown",
   "metadata": {},
   "source": [
    "## Part 1"
   ]
  },
  {
   "cell_type": "code",
   "execution_count": 31,
   "metadata": {},
   "outputs": [],
   "source": [
    "def read_text_file_as_grid(file_path):\n",
    "    with open(file_path, 'r') as file:\n",
    "        grid = [list(line.strip()) for line in file if line.strip()]\n",
    "    return np.array(grid)\n",
    "\n",
    "def find_paths(grid, sequence, start):\n",
    "    rows, cols = grid.shape\n",
    "    paths = []\n",
    "\n",
    "    def is_valid_move(r, c, idx):\n",
    "        return 0 <= r < rows and 0 <= c < cols and grid[r, c] == sequence[idx]\n",
    "\n",
    "    def dfs(path, r, c, idx):\n",
    "        if idx == len(sequence):\n",
    "            paths.append(path[:])\n",
    "            return\n",
    "        \n",
    "        directions = [(-1, 0), (1, 0), (0, -1), (0, 1)]\n",
    "        for dr, dc in directions:\n",
    "            nr, nc = r + dr, c + dc\n",
    "            if is_valid_move(nr, nc, idx):\n",
    "                path.append((nr, nc))\n",
    "                dfs(path, nr, nc, idx + 1)\n",
    "                path.pop()\n",
    "\n",
    "    if grid[start] == sequence[0]:\n",
    "        dfs([start], start[0], start[1], 1)\n",
    "\n",
    "    return paths\n"
   ]
  },
  {
   "cell_type": "code",
   "execution_count": 32,
   "metadata": {},
   "outputs": [],
   "source": [
    "input_file = \"input.txt\"\n",
    "\n",
    "grid = read_text_file_as_grid(input_file)\n",
    "sequence = np.arange(0,10).astype(str).tolist()\n",
    "start_indeces = np.argwhere(grid=='0')\n",
    "\n",
    "# find all paths\n",
    "result = []\n",
    "for start in start_indeces:\n",
    "    paths = find_paths(grid, sequence, tuple(start))\n",
    "    result += paths"
   ]
  },
  {
   "cell_type": "code",
   "execution_count": 33,
   "metadata": {},
   "outputs": [],
   "source": [
    "def deduplicate_arrays(arrays):\n",
    "    unique_pairs = set() \n",
    "    deduplicated = []\n",
    "\n",
    "    for array in arrays:\n",
    "        pair = (array[0], array[-1])\n",
    "        if pair not in unique_pairs:\n",
    "            unique_pairs.add(pair)\n",
    "            deduplicated.append(array)\n",
    "\n",
    "    return deduplicated"
   ]
  },
  {
   "cell_type": "code",
   "execution_count": 38,
   "metadata": {},
   "outputs": [],
   "source": [
    "deduplicated_result = deduplicate_arrays(result)\n",
    "#len(deduplicated_result)"
   ]
  },
  {
   "cell_type": "code",
   "execution_count": 37,
   "metadata": {},
   "outputs": [
    {
     "data": {
      "text/plain": [
       "552"
      ]
     },
     "execution_count": 37,
     "metadata": {},
     "output_type": "execute_result"
    }
   ],
   "source": [
    "def get_position_counter(results):\n",
    "    first_elements = [lst[0] for lst in results]\n",
    "    counter = Counter(first_elements)\n",
    "    return counter\n",
    "\n",
    "sum(get_position_counter(deduplicated_result).values())"
   ]
  },
  {
   "cell_type": "markdown",
   "metadata": {},
   "source": [
    "## Part 2"
   ]
  },
  {
   "cell_type": "code",
   "execution_count": null,
   "metadata": {},
   "outputs": [],
   "source": []
  }
 ],
 "metadata": {
  "kernelspec": {
   "display_name": ".aoc",
   "language": "python",
   "name": "python3"
  },
  "language_info": {
   "codemirror_mode": {
    "name": "ipython",
    "version": 3
   },
   "file_extension": ".py",
   "mimetype": "text/x-python",
   "name": "python",
   "nbconvert_exporter": "python",
   "pygments_lexer": "ipython3",
   "version": "3.13.0"
  }
 },
 "nbformat": 4,
 "nbformat_minor": 2
}

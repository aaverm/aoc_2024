{
 "cells": [
  {
   "cell_type": "code",
   "execution_count": 9,
   "metadata": {},
   "outputs": [],
   "source": [
    "import numpy as np\n",
    "from collections import deque"
   ]
  },
  {
   "cell_type": "markdown",
   "metadata": {},
   "source": [
    "## Part 1"
   ]
  },
  {
   "cell_type": "code",
   "execution_count": 10,
   "metadata": {},
   "outputs": [],
   "source": [
    "def generate_grid(n, m):\n",
    "    grid = np.zeros((n, m), dtype=str)\n",
    "    return grid"
   ]
  },
  {
   "cell_type": "code",
   "execution_count": 35,
   "metadata": {},
   "outputs": [],
   "source": [
    "def read_text_file_as_grid(file_path, n, m, steps=1024):\n",
    "    grid = generate_grid(n,m)\n",
    "    \n",
    "    with open(file_path, 'r') as file:\n",
    "        counter = 0\n",
    "        for line in file:\n",
    "            if counter >= steps:\n",
    "                break \n",
    "            y, x = line.strip().split(\",\")\n",
    "            grid[int(x)][int(y)] = \"#\"\n",
    "            counter += 1\n",
    "            \n",
    "    return grid"
   ]
  },
  {
   "cell_type": "code",
   "execution_count": null,
   "metadata": {},
   "outputs": [
    {
     "name": "stdout",
     "output_type": "stream",
     "text": [
      "[['' '' '' '#' '' '' '']\n",
      " ['' '' '#' '' '' '#' '']\n",
      " ['' '' '' '' '#' '' '']\n",
      " ['' '' '' '#' '' '' '#']\n",
      " ['' '' '#' '' '' '#' '']\n",
      " ['' '#' '' '' '#' '' '']\n",
      " ['#' '' '#' '' '' '' '']]\n"
     ]
    }
   ],
   "source": [
    "input_file = \"example1.txt\"\n",
    "grid = read_text_file_as_grid(input_file, 7, 7, 12)\n",
    "print(grid)"
   ]
  },
  {
   "cell_type": "code",
   "execution_count": 40,
   "metadata": {},
   "outputs": [],
   "source": [
    "def is_inside_grid(grid, x, y):\n",
    "    rows, cols = grid.shape\n",
    "    return 0 <= x < rows and 0 <= y < cols\n",
    "\n",
    "def is_valid_move(grid, x, y):\n",
    "    return is_inside_grid(grid, x, y) and grid[x][y] != '#'\n",
    "\n",
    "def find_start_and_end(grid):\n",
    "    start = (0, 0)\n",
    "    end = (grid.shape[0] - 1, grid.shape[1] - 1)\n",
    "    return start, end\n",
    "\n",
    "def bfs(grid):\n",
    "    start, end = find_start_and_end(grid)\n",
    "    start_x, start_y = start\n",
    "    goal_x, goal_y = end\n",
    "    \n",
    "    directions = [(-1, 0), (0, 1), (1, 0), (0, -1)]\n",
    "    \n",
    "    queue = deque([(start_x, start_y, [])])\n",
    "    \n",
    "    visited = set()\n",
    "    visited.add((start_x, start_y))\n",
    "    \n",
    "    while queue:\n",
    "        x, y, path = queue.popleft()\n",
    "        \n",
    "        if (x, y) == (goal_x, goal_y):\n",
    "            return path + [(x, y)]\n",
    "        \n",
    "        for dx, dy in directions:\n",
    "            nx, ny = x + dx, y + dy\n",
    "            if is_valid_move(grid, nx, ny) and (nx, ny) not in visited:\n",
    "                visited.add((nx, ny))\n",
    "                queue.append((nx, ny, path + [(x, y)]))\n",
    "    \n",
    "    return None"
   ]
  },
  {
   "cell_type": "code",
   "execution_count": 41,
   "metadata": {},
   "outputs": [
    {
     "name": "stdout",
     "output_type": "stream",
     "text": [
      "408\n"
     ]
    }
   ],
   "source": [
    "input_file = \"input.txt\"\n",
    "grid = read_text_file_as_grid(input_file, 71, 71)\n",
    "shortest_path = bfs(grid)\n",
    "print(len(shortest_path)-1)"
   ]
  },
  {
   "cell_type": "markdown",
   "metadata": {},
   "source": [
    "## Part 2"
   ]
  },
  {
   "cell_type": "code",
   "execution_count": 33,
   "metadata": {},
   "outputs": [],
   "source": [
    "def read_text_file(file_path):\n",
    "    with open(file_path, 'r') as file:\n",
    "        coordinates = [line.strip() for line in file]    \n",
    "    return coordinates"
   ]
  },
  {
   "cell_type": "code",
   "execution_count": 47,
   "metadata": {},
   "outputs": [
    {
     "name": "stdout",
     "output_type": "stream",
     "text": [
      "2893 45,16\n"
     ]
    }
   ],
   "source": [
    "input_file = \"input.txt\"\n",
    "coordinates = read_text_file(input_file)\n",
    "\n",
    "for i in range(1024,len(coordinates),1):\n",
    "    grid = read_text_file_as_grid(input_file, 71, 71, i)\n",
    "    shortest_path = bfs(grid)\n",
    "    if shortest_path is None:\n",
    "        print(i,coordinates[i-1])\n",
    "        break"
   ]
  }
 ],
 "metadata": {
  "kernelspec": {
   "display_name": ".aoc",
   "language": "python",
   "name": "python3"
  },
  "language_info": {
   "codemirror_mode": {
    "name": "ipython",
    "version": 3
   },
   "file_extension": ".py",
   "mimetype": "text/x-python",
   "name": "python",
   "nbconvert_exporter": "python",
   "pygments_lexer": "ipython3",
   "version": "3.13.0"
  }
 },
 "nbformat": 4,
 "nbformat_minor": 2
}

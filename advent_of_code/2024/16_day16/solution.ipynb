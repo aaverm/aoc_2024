{
 "cells": [
  {
   "cell_type": "code",
   "execution_count": 1,
   "metadata": {},
   "outputs": [],
   "source": [
    "import numpy as np\n",
    "import heapq"
   ]
  },
  {
   "cell_type": "markdown",
   "metadata": {},
   "source": [
    "## Part 1"
   ]
  },
  {
   "cell_type": "code",
   "execution_count": null,
   "metadata": {},
   "outputs": [
    {
     "name": "stdout",
     "output_type": "stream",
     "text": [
      "total cost: 7036\n",
      "# # # # # # # # # # # # # # #\n",
      "# . . . . . . . # . . . . E #\n",
      "# . # . # # # . # . # # # ^ #\n",
      "# . . . . . # . # . . . # ^ #\n",
      "# . # # # . # # # # # . # ^ #\n",
      "# . # . # . . . . . . . # ^ #\n",
      "# . # . # # # # # . # # # ^ #\n",
      "# . . ^ > > > > > > > > # ^ #\n",
      "# # # ^ # . # # # # # v # ^ #\n",
      "# . . ^ # . . . . . # v # ^ #\n",
      "# . # ^ # . # # # . # v # ^ #\n",
      "# ^ > > . . # . . . # v # ^ #\n",
      "# ^ # # # . # . # . # v # ^ #\n",
      "# S . . # . . . . . # v > > #\n",
      "# # # # # # # # # # # # # # #\n"
     ]
    }
   ],
   "source": [
    "directions = ['^', '>', 'v', '<']\n",
    "delta = {'^': (-1, 0), '>': (0, 1), 'v': (1, 0), '<': (0, -1)}\n",
    "\n",
    "def read_text_file_as_grid(file_path):\n",
    "    with open(file_path, 'r') as file:\n",
    "        grid = [list(line.strip()) for line in file if line.strip()]\n",
    "    return np.array(grid)\n",
    "\n",
    "def is_inside_grid(grid, x, y):\n",
    "    rows, cols = grid.shape\n",
    "    return 0 <= x < rows and 0 <= y < cols\n",
    "\n",
    "def is_valid_move(grid, x, y):\n",
    "    return is_inside_grid(grid, x, y) and grid[x][y] != '#'\n",
    "\n",
    "def find_start_and_end(grid):\n",
    "    start = tuple(np.argwhere(grid==\"S\")[0])\n",
    "    end = tuple(np.argwhere(grid==\"E\")[0])\n",
    "    return start, end\n",
    "\n",
    "def bfs_with_cost(grid):\n",
    "    start, end = find_start_and_end(grid)\n",
    "    start_x, start_y = start\n",
    "    goal_x, goal_y = end\n",
    "    \n",
    "    queue = [(0, start_x, start_y, '>')] \n",
    "    heapq.heapify(queue)\n",
    "    \n",
    "    visited = set()\n",
    "    \n",
    "    parent = {}\n",
    "    \n",
    "    while queue:\n",
    "        cost, x, y, direction = heapq.heappop(queue)\n",
    "        \n",
    "        if (x, y) == (goal_x, goal_y):\n",
    "            path, tiles = reconstruct_path(parent, start_x, start_y, goal_x, goal_y, direction)\n",
    "            return  path, tiles, cost\n",
    "        \n",
    "        if (x, y, direction) in visited:\n",
    "            continue\n",
    "        \n",
    "        visited.add((x, y, direction))\n",
    "        \n",
    "        dx, dy = delta[direction]\n",
    "        nx, ny = x + dx, y + dy\n",
    "        if is_valid_move(grid, nx, ny) and (nx, ny, direction) not in visited:\n",
    "            heapq.heappush(queue, (cost + 1, nx, ny, direction))\n",
    "            parent[(nx, ny, direction)] = (x, y, direction)\n",
    "        \n",
    "        left_direction = directions[(directions.index(direction) - 1) % 4]\n",
    "        if (x, y, left_direction) not in visited:\n",
    "            heapq.heappush(queue, (cost + 1000, x, y, left_direction))\n",
    "            parent[(x, y, left_direction)] = (x, y, direction)\n",
    "        \n",
    "        right_direction = directions[(directions.index(direction) + 1) % 4]\n",
    "        if (x, y, right_direction) not in visited:\n",
    "            heapq.heappush(queue, (cost + 1000, x, y, right_direction))\n",
    "            parent[(x, y, right_direction)] = (x, y, direction)\n",
    "\n",
    "    return None, None, float('inf')\n",
    "\n",
    "def reconstruct_path(parent, start_x, start_y, goal_x, goal_y, final_direction):\n",
    "    path = []\n",
    "    current = (goal_x, goal_y, final_direction)\n",
    "    count_tiles = 0\n",
    "    \n",
    "    while current in parent:\n",
    "        x, y, direction = current\n",
    "        path.append((x, y, direction))\n",
    "        if grid[x][y] not in [\"S\",\"E\",\"#\"]:\n",
    "            grid[x][y] = direction\n",
    "            count_tiles += 1\n",
    "        current = parent[current]\n",
    "    \n",
    "    path.append((start_x, start_y, '>'))  \n",
    "    path.reverse()\n",
    "    return path, count_tiles + 2\n",
    "\n",
    "input_file = \"example1.txt\"\n",
    "grid = read_text_file_as_grid(input_file)\n",
    "path, count_tiles, total_cost = bfs_with_cost(grid)\n",
    "\n",
    "if path:\n",
    "    print(f\"total cost: {total_cost}\")\n",
    "    for row in grid:\n",
    "        print(' '.join(row))\n"
   ]
  },
  {
   "cell_type": "code",
   "execution_count": 10,
   "metadata": {},
   "outputs": [
    {
     "name": "stdout",
     "output_type": "stream",
     "text": [
      "total cost: 91464\n"
     ]
    }
   ],
   "source": [
    "input_file = \"input.txt\"\n",
    "grid = read_text_file_as_grid(input_file)\n",
    "path, tiles, total_cost = bfs_with_cost(grid)\n",
    "\n",
    "print(f\"total cost: {total_cost}\")"
   ]
  },
  {
   "cell_type": "markdown",
   "metadata": {},
   "source": [
    "## Part 2"
   ]
  },
  {
   "cell_type": "code",
   "execution_count": null,
   "metadata": {},
   "outputs": [],
   "source": [
    "def reconstruct_paths(parents, start, goal):\n",
    "    paths = []\n",
    "    stack = [(goal, [])]\n",
    "\n",
    "    while stack:\n",
    "        current, path = stack.pop()\n",
    "\n",
    "        if (current[0], current[1]) == start:\n",
    "            paths.append([(start[0], start[1], '>')] + path[::-1])\n",
    "            continue\n",
    "\n",
    "        if current not in parents:\n",
    "            continue\n",
    "\n",
    "        for parent in parents[current]:\n",
    "            stack.append((parent, path + [current]))\n",
    "\n",
    "    return paths\n",
    "\n",
    "def bfs_find_all_optimal_paths(grid):\n",
    "    start, end = find_start_and_end(grid)\n",
    "    start_x, start_y = start\n",
    "    goal_x, goal_y = end\n",
    "\n",
    "    queue = [(0, start_x, start_y, '>')] \n",
    "    heapq.heapify(queue)\n",
    "    \n",
    "    cost_so_far = {}\n",
    "\n",
    "    parents = {}\n",
    "\n",
    "    optimal_goal_states = []\n",
    "    optimal_cost = float('inf')\n",
    "\n",
    "    while queue:\n",
    "        cost, x, y, direction = heapq.heappop(queue)\n",
    "\n",
    "        if cost > optimal_cost:\n",
    "            continue\n",
    "        \n",
    "        if (x, y) == (goal_x, goal_y):\n",
    "            if cost < optimal_cost:\n",
    "                optimal_cost = cost\n",
    "                optimal_goal_states = [(x, y, direction)]\n",
    "            elif cost == optimal_cost:\n",
    "                optimal_goal_states.append((x, y, direction))\n",
    "            continue\n",
    "\n",
    "        if (x, y, direction) in cost_so_far and cost_so_far[(x, y, direction)] <= cost:\n",
    "            continue\n",
    "\n",
    "        cost_so_far[(x, y, direction)] = cost\n",
    "\n",
    "        dx, dy = delta[direction]\n",
    "        nx, ny = x + dx, y + dy\n",
    "        if is_valid_move(grid, nx, ny):\n",
    "            new_cost = cost + 1\n",
    "            if (nx, ny, direction) not in cost_so_far or cost_so_far[(nx, ny, direction)] > new_cost:\n",
    "                heapq.heappush(queue, (new_cost, nx, ny, direction))\n",
    "                parents.setdefault((nx, ny, direction), []).append((x, y, direction))\n",
    "\n",
    "        left_direction = directions[(directions.index(direction) - 1) % 4]\n",
    "        new_cost = cost + 1000\n",
    "        if (x, y, left_direction) not in cost_so_far or cost_so_far[(x, y, left_direction)] > new_cost:\n",
    "            heapq.heappush(queue, (new_cost, x, y, left_direction))\n",
    "            parents.setdefault((x, y, left_direction), []).append((x, y, direction))\n",
    "\n",
    "        right_direction = directions[(directions.index(direction) + 1) % 4]\n",
    "        new_cost = cost + 1000\n",
    "        if (x, y, right_direction) not in cost_so_far or cost_so_far[(x, y, right_direction)] > new_cost:\n",
    "            heapq.heappush(queue, (new_cost, x, y, right_direction))\n",
    "            parents.setdefault((x, y, right_direction), []).append((x, y, direction))\n",
    "\n",
    "    all_paths = []\n",
    "    for goal in optimal_goal_states:\n",
    "        all_paths.extend(reconstruct_paths(parents, start, goal))\n",
    "    \n",
    "    return all_paths, optimal_cost"
   ]
  },
  {
   "cell_type": "code",
   "execution_count": 37,
   "metadata": {},
   "outputs": [],
   "source": [
    "input_file = \"input.txt\"\n",
    "grid = read_text_file_as_grid(input_file)\n",
    "all_paths, total_cost = bfs_find_all_optimal_paths(grid)"
   ]
  },
  {
   "cell_type": "code",
   "execution_count": 38,
   "metadata": {},
   "outputs": [
    {
     "name": "stdout",
     "output_type": "stream",
     "text": [
      "494\n"
     ]
    }
   ],
   "source": [
    "tiles = []\n",
    "for path in all_paths:\n",
    "    for step in path:\n",
    "        if (step[0], step[1]) not in tiles:\n",
    "            tiles.append((step[0], step[1]))\n",
    "            \n",
    "print(len(tiles))"
   ]
  },
  {
   "cell_type": "code",
   "execution_count": null,
   "metadata": {},
   "outputs": [],
   "source": []
  }
 ],
 "metadata": {
  "kernelspec": {
   "display_name": ".aoc",
   "language": "python",
   "name": "python3"
  },
  "language_info": {
   "codemirror_mode": {
    "name": "ipython",
    "version": 3
   },
   "file_extension": ".py",
   "mimetype": "text/x-python",
   "name": "python",
   "nbconvert_exporter": "python",
   "pygments_lexer": "ipython3",
   "version": "3.13.0"
  }
 },
 "nbformat": 4,
 "nbformat_minor": 2
}

{
 "cells": [
  {
   "cell_type": "code",
   "execution_count": 22,
   "metadata": {},
   "outputs": [],
   "source": [
    "import numpy as np\n",
    "import re\n",
    "from sympy import Matrix, linsolve, symbols, simplify"
   ]
  },
  {
   "cell_type": "markdown",
   "metadata": {},
   "source": [
    "## Part 1"
   ]
  },
  {
   "cell_type": "code",
   "execution_count": null,
   "metadata": {},
   "outputs": [],
   "source": [
    "def parse_input_file(file_path):\n",
    "    with open(file_path, 'r') as f:\n",
    "        data = f.read()\n",
    "    \n",
    "    blocks = data.strip().split('\\n\\n')\n",
    "    results = []\n",
    "    \n",
    "    for block in blocks:\n",
    "        lines = block.splitlines()\n",
    "        side_a = re.findall(r'X\\+(\\d+), Y\\+(\\d+)', lines[0])[0]\n",
    "        side_b = re.findall(r'X\\+(\\d+), Y\\+(\\d+)', lines[1])[0]\n",
    "        location = re.findall(r'X=(\\d+), Y=(\\d+)', lines[2])[0]\n",
    "        \n",
    "        side_a = tuple(map(int, side_a))\n",
    "        side_b = tuple(map(int, side_b))\n",
    "        location = tuple(map(int, location))\n",
    "        \n",
    "        results.append((side_a, side_b, location))\n",
    "    \n",
    "    return results"
   ]
  },
  {
   "cell_type": "code",
   "execution_count": 28,
   "metadata": {},
   "outputs": [],
   "source": [
    "def solve_using_diophantine(parsed_data):\n",
    "    solutions = []\n",
    "    \n",
    "    for idx, (side_a, side_b, target) in enumerate(parsed_data, start=1):\n",
    "        a_x, a_y = side_a\n",
    "        b_x, b_y = side_b\n",
    "        t_x, t_y = target\n",
    "        \n",
    "        coeff_matrix = Matrix([\n",
    "            [a_x, b_x],\n",
    "            [a_y, b_y]\n",
    "        ])\n",
    "        target_vector = Matrix([t_x, t_y])\n",
    "        \n",
    "        try:\n",
    "            sol = linsolve((coeff_matrix, target_vector), symbols('a b'))\n",
    "            \n",
    "            if not sol:\n",
    "                solutions.append(f\"Block {idx}: No integer solution exists\")\n",
    "                continue\n",
    "            \n",
    "            solution = list(sol)[0]\n",
    "            a, b = simplify(solution[0]), simplify(solution[1])\n",
    "            \n",
    "            if a.is_integer and b.is_integer:\n",
    "                solutions.append(int(a)*3)\n",
    "                solutions.append(int(b))\n",
    "                # print(f\"Block {idx}: a = {int(a)}, b = {int(b)}\")\n",
    "            else:\n",
    "                # print(f\"Block {idx}: No integer solution exists\")\n",
    "                continue\n",
    "        \n",
    "        except Exception as e:\n",
    "            solutions.append(f\"Block {idx}: Error occurred - {str(e)}\")\n",
    "    \n",
    "    return solutions\n",
    "\n",
    "file_path = \"input.txt\"\n",
    "parsed_data = parse_input_file(file_path)\n",
    "solutions = solve_using_diophantine(parsed_data)\n"
   ]
  },
  {
   "cell_type": "code",
   "execution_count": 29,
   "metadata": {},
   "outputs": [
    {
     "data": {
      "text/plain": [
       "25751"
      ]
     },
     "execution_count": 29,
     "metadata": {},
     "output_type": "execute_result"
    }
   ],
   "source": [
    "sum(solutions)"
   ]
  },
  {
   "cell_type": "markdown",
   "metadata": {},
   "source": [
    "## Part 2"
   ]
  },
  {
   "cell_type": "code",
   "execution_count": null,
   "metadata": {},
   "outputs": [],
   "source": [
    "def solve_using_diophantine_p2(parsed_data):\n",
    "    solutions = []\n",
    "    \n",
    "    for idx, (side_a, side_b, target) in enumerate(parsed_data, start=1):\n",
    "        a_x, a_y = side_a\n",
    "        b_x, b_y = side_b\n",
    "        t_x, t_y = target\n",
    "        \n",
    "        coeff_matrix = Matrix([\n",
    "            [a_x, b_x],\n",
    "            [a_y, b_y]\n",
    "        ])\n",
    "        target_vector = Matrix([t_x + 10000000000000, t_y + 10000000000000])\n",
    "        \n",
    "        try:\n",
    "            sol = linsolve((coeff_matrix, target_vector), symbols('a b'))\n",
    "            \n",
    "            if not sol:\n",
    "                solutions.append(f\"Block {idx}: No integer solution exists\")\n",
    "                continue\n",
    "            \n",
    "            solution = list(sol)[0]\n",
    "            a, b = simplify(solution[0]), simplify(solution[1])\n",
    "            \n",
    "            if a.is_integer and b.is_integer:\n",
    "                solutions.append(int(a)*3)\n",
    "                solutions.append(int(b))\n",
    "            else:\n",
    "                continue\n",
    "        \n",
    "        except Exception as e:\n",
    "            solutions.append(f\"Block {idx}: Error occurred - {str(e)}\")\n",
    "    \n",
    "    return solutions\n",
    "\n",
    "solutions = solve_using_diophantine_p2(parsed_data)"
   ]
  },
  {
   "cell_type": "code",
   "execution_count": 31,
   "metadata": {},
   "outputs": [
    {
     "data": {
      "text/plain": [
       "108528956728655"
      ]
     },
     "execution_count": 31,
     "metadata": {},
     "output_type": "execute_result"
    }
   ],
   "source": [
    "sum(solutions)"
   ]
  }
 ],
 "metadata": {
  "kernelspec": {
   "display_name": ".aoc",
   "language": "python",
   "name": "python3"
  },
  "language_info": {
   "codemirror_mode": {
    "name": "ipython",
    "version": 3
   },
   "file_extension": ".py",
   "mimetype": "text/x-python",
   "name": "python",
   "nbconvert_exporter": "python",
   "pygments_lexer": "ipython3",
   "version": "3.13.0"
  }
 },
 "nbformat": 4,
 "nbformat_minor": 2
}

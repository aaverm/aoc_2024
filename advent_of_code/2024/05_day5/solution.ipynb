{
 "cells": [
  {
   "cell_type": "code",
   "execution_count": 1,
   "metadata": {},
   "outputs": [],
   "source": [
    "import pandas as pd"
   ]
  },
  {
   "cell_type": "markdown",
   "metadata": {},
   "source": [
    "## Part 1"
   ]
  },
  {
   "cell_type": "code",
   "execution_count": 2,
   "metadata": {},
   "outputs": [
    {
     "name": "stdout",
     "output_type": "stream",
     "text": [
      "Rules (key-value pairs): [(47, 53), (97, 13), (97, 61), (97, 47), (75, 29), (61, 13), (75, 53), (29, 13), (97, 29), (53, 29), (61, 53), (97, 53), (61, 29), (47, 13), (75, 47), (97, 75), (47, 61), (75, 61), (47, 29), (75, 13), (53, 13)]\n",
      "Data (list of lists): [[75, 47, 61, 53, 29], [97, 61, 53, 29, 13], [75, 29, 13], [75, 97, 47, 61, 53], [61, 13, 29], [97, 13, 75, 29, 47]]\n"
     ]
    }
   ],
   "source": [
    "def parse_file(file_path):\n",
    "    rules = [] \n",
    "    updates = []\n",
    "\n",
    "    with open(file_path, 'r') as file:\n",
    "        lines = file.readlines()\n",
    "\n",
    "    after_empty_line = False\n",
    "\n",
    "    for line in lines:\n",
    "        line = line.strip()\n",
    "\n",
    "        if not line:\n",
    "            after_empty_line = True\n",
    "            continue\n",
    "\n",
    "        if not after_empty_line:\n",
    "            if '|' in line:\n",
    "                key, value = line.split('|')\n",
    "                rules.append((int(key), int(value)))\n",
    "        else:\n",
    "            updates.append([int(x) for x in line.split(',')])\n",
    "\n",
    "    return rules, updates\n",
    "\n",
    "\n",
    "input_file = 'example1.txt' \n",
    "rules, updates = parse_file(input_file)\n",
    "\n",
    "print(\"Rules (key-value pairs):\", rules)\n",
    "print(\"Data (list of lists):\", updates)\n"
   ]
  },
  {
   "cell_type": "code",
   "execution_count": 3,
   "metadata": {},
   "outputs": [],
   "source": [
    "valid_updates = []\n",
    "\n",
    "for l in updates:\n",
    "    is_valid = True\n",
    "    for k,v in rules:\n",
    "        if k in l and v in l:\n",
    "            if l.index(k) > l.index(v):\n",
    "                is_valid = False\n",
    "                break\n",
    "            \n",
    "    if is_valid:\n",
    "        valid_updates.append(l)"
   ]
  },
  {
   "cell_type": "code",
   "execution_count": 4,
   "metadata": {},
   "outputs": [],
   "source": [
    "def get_middle_item(list):\n",
    "    middle = len(list)//2\n",
    "    return middle"
   ]
  },
  {
   "cell_type": "code",
   "execution_count": 5,
   "metadata": {},
   "outputs": [],
   "source": [
    "sum_middles = sum(update[get_middle_item(update)] for update in valid_updates)"
   ]
  },
  {
   "cell_type": "code",
   "execution_count": 6,
   "metadata": {},
   "outputs": [
    {
     "data": {
      "text/plain": [
       "143"
      ]
     },
     "execution_count": 6,
     "metadata": {},
     "output_type": "execute_result"
    }
   ],
   "source": [
    "sum_middles"
   ]
  },
  {
   "cell_type": "code",
   "execution_count": 7,
   "metadata": {},
   "outputs": [
    {
     "data": {
      "text/plain": [
       "5651"
      ]
     },
     "execution_count": 7,
     "metadata": {},
     "output_type": "execute_result"
    }
   ],
   "source": [
    "input_file = 'input.txt'  \n",
    "rules, updates = parse_file(input_file)\n",
    "\n",
    "valid_updates = []\n",
    "invalid_updates = []\n",
    "\n",
    "for l in updates:\n",
    "    is_valid = True\n",
    "    for k,v in rules:\n",
    "        if k in l and v in l:\n",
    "            if l.index(k) > l.index(v):\n",
    "                is_valid = False\n",
    "                break\n",
    "            \n",
    "    if is_valid:\n",
    "        valid_updates.append(l)\n",
    "    else:\n",
    "        invalid_updates.append(l)\n",
    "        \n",
    "sum_middles = sum(update[get_middle_item(update)] for update in valid_updates)\n",
    "\n",
    "sum_middles"
   ]
  },
  {
   "cell_type": "markdown",
   "metadata": {},
   "source": [
    "## Part 2"
   ]
  },
  {
   "cell_type": "code",
   "execution_count": 8,
   "metadata": {},
   "outputs": [],
   "source": [
    "example = invalid_updates[0].copy()\n",
    "\n",
    "def reorder_by_rules(l, rules):\n",
    "    changed = True\n",
    "    while changed:\n",
    "        changed = False\n",
    "        for k, v in rules:\n",
    "            if k in l and v in l:\n",
    "                k_index = l.index(k)\n",
    "                v_index = l.index(v)\n",
    "                if k_index > v_index:\n",
    "                    l[k_index], l[v_index] = l[v_index], l[k_index]\n",
    "                    changed = True\n",
    "    return l\n",
    "\n",
    "result = reorder_by_rules(example, rules)\n"
   ]
  },
  {
   "cell_type": "code",
   "execution_count": 9,
   "metadata": {},
   "outputs": [],
   "source": [
    "for update in invalid_updates:\n",
    "    update = reorder_by_rules(update, rules)"
   ]
  },
  {
   "cell_type": "code",
   "execution_count": 10,
   "metadata": {},
   "outputs": [
    {
     "data": {
      "text/plain": [
       "4743"
      ]
     },
     "execution_count": 10,
     "metadata": {},
     "output_type": "execute_result"
    }
   ],
   "source": [
    "sum_middles = sum(update[get_middle_item(update)] for update in invalid_updates)\n",
    "sum_middles"
   ]
  },
  {
   "cell_type": "code",
   "execution_count": null,
   "metadata": {},
   "outputs": [],
   "source": []
  }
 ],
 "metadata": {
  "kernelspec": {
   "display_name": ".aoc",
   "language": "python",
   "name": "python3"
  },
  "language_info": {
   "codemirror_mode": {
    "name": "ipython",
    "version": 3
   },
   "file_extension": ".py",
   "mimetype": "text/x-python",
   "name": "python",
   "nbconvert_exporter": "python",
   "pygments_lexer": "ipython3",
   "version": "3.13.0"
  }
 },
 "nbformat": 4,
 "nbformat_minor": 2
}

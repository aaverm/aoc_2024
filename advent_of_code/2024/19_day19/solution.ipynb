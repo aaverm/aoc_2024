{
 "cells": [
  {
   "cell_type": "code",
   "execution_count": 1,
   "metadata": {},
   "outputs": [],
   "source": [
    "import numpy as np"
   ]
  },
  {
   "cell_type": "markdown",
   "metadata": {},
   "source": [
    "## Part 1"
   ]
  },
  {
   "cell_type": "code",
   "execution_count": 2,
   "metadata": {},
   "outputs": [],
   "source": [
    "def parse_input_file(file_path):\n",
    "    with open(file_path, 'r') as f:\n",
    "        data = f.read()\n",
    "    \n",
    "    blocks = data.strip().split('\\n\\n')\n",
    "    \n",
    "    patterns = blocks[0].replace(\" \",\"\").split(',')\n",
    "    \n",
    "    designs = [l for l in blocks[1].split('\\n')]\n",
    "    \n",
    "    return patterns, designs"
   ]
  },
  {
   "cell_type": "code",
   "execution_count": 3,
   "metadata": {},
   "outputs": [],
   "source": [
    "def match_string_with_ngrams(s, ngrams):\n",
    "    ngram_set = set(ngrams)\n",
    "    max_length = max(map(len, ngrams))\n",
    "    dp = [False] * (len(s) + 1)\n",
    "    dp[0] = True\n",
    "    \n",
    "    for i in range(1, len(s) + 1):\n",
    "        for j in range(max(0, i - max_length), i): \n",
    "            if dp[j] and s[j:i] in ngram_set:\n",
    "                dp[i] = True\n",
    "                break\n",
    "\n",
    "    return dp[-1]"
   ]
  },
  {
   "cell_type": "code",
   "execution_count": 4,
   "metadata": {},
   "outputs": [],
   "source": [
    "input_file = \"input.txt\"\n",
    "patterns, designs = parse_input_file(input_file)"
   ]
  },
  {
   "cell_type": "code",
   "execution_count": 12,
   "metadata": {},
   "outputs": [],
   "source": [
    "results = []\n",
    "for d in designs:\n",
    "    results.append(match_string_with_ngrams(d, patterns))"
   ]
  },
  {
   "cell_type": "code",
   "execution_count": 13,
   "metadata": {},
   "outputs": [
    {
     "data": {
      "text/plain": [
       "298"
      ]
     },
     "execution_count": 13,
     "metadata": {},
     "output_type": "execute_result"
    }
   ],
   "source": [
    "sum(results)"
   ]
  },
  {
   "cell_type": "markdown",
   "metadata": {},
   "source": [
    "## Part 2"
   ]
  },
  {
   "cell_type": "code",
   "execution_count": null,
   "metadata": {},
   "outputs": [],
   "source": [
    "def match_string_with_all_paths(s, ngrams):\n",
    "    ngram_set = set(ngrams)\n",
    "    max_ngram_len = max(map(len, ngrams))\n",
    "    \n",
    "    dp = [[] for _ in range(len(s) + 1)]\n",
    "    dp[0] = [[]]\n",
    "\n",
    "    for i in range(1, len(s) + 1):\n",
    "        for j in range(max(0, i - max_ngram_len), i):\n",
    "            if s[j:i] in ngram_set:\n",
    "                for partition in dp[j]:\n",
    "                    dp[i].append(partition + [s[j:i]])\n",
    "\n",
    "    return dp[-1]\n",
    "\n",
    "def match_string_with_count_of_ways(s, ngrams):\n",
    "    ngram_set = set(ngrams)\n",
    "    max_ngram_len = max(map(len, ngrams))\n",
    "    \n",
    "    dp = [0] * (len(s) + 1)\n",
    "    dp[0] = 1\n",
    "\n",
    "    for i in range(1, len(s) + 1):\n",
    "        for j in range(max(0, i - max_ngram_len), i):\n",
    "            if s[j:i] in ngram_set:\n",
    "                dp[i] += dp[j]\n",
    "\n",
    "    return dp[-1]"
   ]
  },
  {
   "cell_type": "code",
   "execution_count": 17,
   "metadata": {},
   "outputs": [],
   "source": [
    "input_file = \"input.txt\"\n",
    "patterns, designs = parse_input_file(input_file)\n",
    "\n",
    "# design_counter = 0\n",
    "# for d in designs:\n",
    "#     paths = match_string_with_all_paths(d, patterns)\n",
    "#     design_counter += len(paths)"
   ]
  },
  {
   "cell_type": "code",
   "execution_count": 18,
   "metadata": {},
   "outputs": [
    {
     "name": "stdout",
     "output_type": "stream",
     "text": [
      "572248688842069\n"
     ]
    }
   ],
   "source": [
    "path_counts = 0\n",
    "for d in designs:\n",
    "    path_counts += match_string_with_count_of_ways(d, patterns)\n",
    "    \n",
    "print(path_counts)"
   ]
  },
  {
   "cell_type": "code",
   "execution_count": null,
   "metadata": {},
   "outputs": [],
   "source": []
  }
 ],
 "metadata": {
  "kernelspec": {
   "display_name": ".aoc",
   "language": "python",
   "name": "python3"
  },
  "language_info": {
   "codemirror_mode": {
    "name": "ipython",
    "version": 3
   },
   "file_extension": ".py",
   "mimetype": "text/x-python",
   "name": "python",
   "nbconvert_exporter": "python",
   "pygments_lexer": "ipython3",
   "version": "3.13.0"
  }
 },
 "nbformat": 4,
 "nbformat_minor": 2
}

{
 "cells": [
  {
   "cell_type": "code",
   "execution_count": 1,
   "metadata": {},
   "outputs": [],
   "source": [
    "import numpy as np\n",
    "import pandas as pd\n",
    "import re"
   ]
  },
  {
   "cell_type": "markdown",
   "metadata": {},
   "source": [
    "## Part 1"
   ]
  },
  {
   "cell_type": "code",
   "execution_count": 2,
   "metadata": {},
   "outputs": [],
   "source": [
    "input_file = \"example1.txt\"\n",
    "\n",
    "with open(input_file, \"r\") as file:\n",
    "    text = file.read()"
   ]
  },
  {
   "cell_type": "code",
   "execution_count": 3,
   "metadata": {},
   "outputs": [],
   "source": [
    "def read_text_file_as_grid(file_path):\n",
    "    with open(file_path, 'r') as file:\n",
    "        grid = [list(line.strip()) for line in file if line.strip()]\n",
    "    return grid\n",
    "\n",
    "def rotate_grid(grid):\n",
    "    return [list(row) for row in zip(*grid[::-1])]\n",
    "\n",
    "def extract_lines(grid, mode='rows'):\n",
    "    rows, cols = len(grid), len(grid[0])\n",
    "\n",
    "    if mode == 'rows':\n",
    "        return grid\n",
    "    elif mode == 'columns':\n",
    "        return [list(column) for column in zip(*grid)]\n",
    "    elif mode == 'main_diagonals':\n",
    "        return [[grid[i + d][i] for i in range(min(rows - d, cols))] for d in range(rows)] + \\\n",
    "               [[grid[i][i + d] for i in range(min(rows, cols - d))] for d in range(1, cols)]\n",
    "    elif mode == 'anti_diagonals':\n",
    "        return [[grid[i + d][cols - 1 - i] for i in range(min(rows - d, cols))] for d in range(rows)] + \\\n",
    "               [[grid[i][cols - 1 - (i + d)] for i in range(min(rows, cols - d))] for d in range(1, cols)]\n",
    "    else:\n",
    "        raise ValueError(\"Mode must be 'rows', 'columns', 'main_diagonals', or 'anti_diagonals'\")\n"
   ]
  },
  {
   "cell_type": "code",
   "execution_count": 4,
   "metadata": {},
   "outputs": [
    {
     "data": {
      "text/plain": [
       "[['.', '.', '.', '.', 'X', 'X', 'M', 'A', 'S', '.'],\n",
       " ['.', 'S', 'A', 'M', 'X', 'M', 'S', '.', '.', '.'],\n",
       " ['.', '.', '.', 'S', '.', '.', 'A', '.', '.', '.'],\n",
       " ['.', '.', 'A', '.', 'A', '.', 'M', 'S', '.', 'X'],\n",
       " ['X', 'M', 'A', 'S', 'A', 'M', 'X', '.', 'M', 'M'],\n",
       " ['X', '.', '.', '.', '.', '.', 'X', 'A', '.', 'A'],\n",
       " ['S', '.', 'S', '.', 'S', '.', 'S', '.', 'S', 'S'],\n",
       " ['.', 'A', '.', 'A', '.', 'A', '.', 'A', '.', 'A'],\n",
       " ['.', '.', 'M', '.', 'M', '.', 'M', '.', 'M', 'M'],\n",
       " ['.', 'X', '.', 'X', '.', 'X', 'M', 'A', 'S', 'X']]"
      ]
     },
     "execution_count": 4,
     "metadata": {},
     "output_type": "execute_result"
    }
   ],
   "source": [
    "puzzle = read_text_file_as_grid(input_file)\n",
    "puzzle"
   ]
  },
  {
   "cell_type": "code",
   "execution_count": 5,
   "metadata": {},
   "outputs": [
    {
     "data": {
      "text/plain": [
       "[['.', 'S', '.', '.', 'A', '.', 'S', 'A', 'M', 'X'],\n",
       " ['.', '.', 'A', 'S', '.', '.', '.', '.', 'S'],\n",
       " ['.', '.', 'A', '.', 'S', 'A', 'M', 'A'],\n",
       " ['.', 'M', '.', '.', '.', '.', 'M'],\n",
       " ['X', '.', 'S', 'A', 'M', 'X'],\n",
       " ['X', '.', '.', '.', '.'],\n",
       " ['S', 'A', 'M', 'X'],\n",
       " ['.', '.', '.'],\n",
       " ['.', 'X'],\n",
       " ['.'],\n",
       " ['.', 'A', 'S', 'A', 'M', 'X', '.', '.', 'M'],\n",
       " ['.', 'M', '.', '.', 'X', 'A', 'S', 'A'],\n",
       " ['.', 'X', '.', 'M', '.', '.', 'S'],\n",
       " ['X', 'M', 'A', 'S', 'M', 'A'],\n",
       " ['X', 'S', '.', '.', 'M'],\n",
       " ['M', '.', '.', 'X'],\n",
       " ['A', '.', '.'],\n",
       " ['S', '.'],\n",
       " ['.']]"
      ]
     },
     "execution_count": 5,
     "metadata": {},
     "output_type": "execute_result"
    }
   ],
   "source": [
    "anti_diagonals = extract_lines(puzzle, mode='main_diagonals')\n",
    "anti_diagonals"
   ]
  },
  {
   "cell_type": "code",
   "execution_count": 6,
   "metadata": {},
   "outputs": [],
   "source": [
    "def count_xmas(ls_words, word=\"XMAS\"):\n",
    "    word_len = len(word)\n",
    "    count = 0\n",
    "\n",
    "    for line in ls_words:\n",
    "        line_str = \"\".join(line)\n",
    "        reversed_str = line_str[::-1]\n",
    "        count += sum(1 for i in range(len(line_str) - word_len + 1) if line_str[i:i + word_len] == word)\n",
    "        count += sum(1 for i in range(len(reversed_str) - word_len + 1) if reversed_str[i:i + word_len] == word)\n",
    "\n",
    "    return count\n"
   ]
  },
  {
   "cell_type": "code",
   "execution_count": 7,
   "metadata": {},
   "outputs": [
    {
     "name": "stdout",
     "output_type": "stream",
     "text": [
      "rows [['.', 'M', '.', 'S', '.', '.', '.', '.', '.', '.'], ['.', '.', 'A', '.', '.', 'M', 'S', 'M', 'S', '.'], ['.', 'M', '.', 'S', '.', 'M', 'A', 'A', '.', '.'], ['.', '.', 'A', '.', 'A', 'S', 'M', 'S', 'M', '.'], ['.', 'M', '.', 'S', '.', 'M', '.', '.', '.', '.'], ['.', '.', '.', '.', '.', '.', '.', '.', '.', '.'], ['S', '.', 'S', '.', 'S', '.', 'S', '.', 'S', '.'], ['.', 'A', '.', 'A', '.', 'A', '.', 'A', '.', '.'], ['M', '.', 'M', '.', 'M', '.', 'M', '.', 'M', '.'], ['.', '.', '.', '.', '.', '.', '.', '.', '.', '.']] 0\n",
      "columns [['.', '.', '.', '.', '.', '.', 'S', '.', 'M', '.'], ['M', '.', 'M', '.', 'M', '.', '.', 'A', '.', '.'], ['.', 'A', '.', 'A', '.', '.', 'S', '.', 'M', '.'], ['S', '.', 'S', '.', 'S', '.', '.', 'A', '.', '.'], ['.', '.', '.', 'A', '.', '.', 'S', '.', 'M', '.'], ['.', 'M', 'M', 'S', 'M', '.', '.', 'A', '.', '.'], ['.', 'S', 'A', 'M', '.', '.', 'S', '.', 'M', '.'], ['.', 'M', 'A', 'S', '.', '.', '.', 'A', '.', '.'], ['.', 'S', '.', 'M', '.', '.', 'S', '.', 'M', '.'], ['.', '.', '.', '.', '.', '.', '.', '.', '.', '.']] 0\n",
      "main_diagonals [['.', '.', '.', '.', '.', '.', 'S', 'A', 'M', '.'], ['.', 'M', 'A', 'S', '.', '.', '.', '.', '.'], ['.', '.', '.', '.', 'S', 'A', 'M', '.'], ['.', 'M', '.', '.', '.', '.', '.'], ['.', '.', 'S', 'A', 'M', '.'], ['.', '.', '.', '.', '.'], ['S', 'A', 'M', '.'], ['.', '.', '.'], ['M', '.'], ['.'], ['M', 'A', 'S', 'A', 'M', '.', '.', '.', '.'], ['.', '.', '.', 'S', '.', '.', 'S', '.'], ['S', '.', 'M', 'M', '.', '.', '.'], ['.', 'M', 'A', 'S', '.', '.'], ['.', 'S', 'A', 'M', '.'], ['.', 'M', '.', '.'], ['.', 'S', '.'], ['.', '.'], ['.']] 0\n",
      "anti_diagonals [['.', 'S', 'A', 'M', 'M', '.', '.', '.', '.', '.'], ['.', '.', 'S', '.', '.', 'S', 'A', 'M', '.'], ['.', 'M', '.', '.', '.', '.', '.', '.'], ['.', '.', '.', 'S', 'A', 'M', '.'], ['.', '.', '.', '.', '.', '.'], ['.', 'S', 'A', 'M', '.'], ['.', '.', '.', '.'], ['.', 'M', '.'], ['.', '.'], ['.'], ['.', 'M', 'A', 'S', '.', '.', 'S', 'A', 'M'], ['.', 'S', 'M', 'A', 'S', '.', '.', '.'], ['.', 'M', '.', '.', '.', '.', 'S'], ['.', '.', 'S', 'A', 'M', '.'], ['.', '.', '.', '.', '.'], ['S', 'A', 'M', '.'], ['.', '.', '.'], ['M', '.'], ['.']] 0\n"
     ]
    }
   ],
   "source": [
    "input_file = \"example2.txt\"\n",
    "\n",
    "puzzle = read_text_file_as_grid(input_file)\n",
    "\n",
    "xmas_counter = 0\n",
    "\n",
    "for direction in [\"rows\", \"columns\", \"main_diagonals\", \"anti_diagonals\"]:\n",
    "    lines = extract_lines(puzzle, mode=direction)\n",
    "    xmas = count_xmas(lines)\n",
    "    print(direction, lines, xmas)\n",
    "    xmas_counter += xmas\n",
    "        "
   ]
  },
  {
   "cell_type": "code",
   "execution_count": 8,
   "metadata": {},
   "outputs": [],
   "source": [
    "input_file = \"input.txt\"\n",
    "\n",
    "puzzle = read_text_file_as_grid(input_file)\n",
    "\n",
    "xmas_counter = 0\n",
    "\n",
    "for direction in [\"rows\", \"columns\", \"main_diagonals\", \"anti_diagonals\"]:\n",
    "    lines = extract_lines(puzzle, mode=direction)\n",
    "    xmas = count_xmas(lines)\n",
    "    xmas_counter += xmas"
   ]
  },
  {
   "cell_type": "code",
   "execution_count": 9,
   "metadata": {},
   "outputs": [
    {
     "data": {
      "text/plain": [
       "2507"
      ]
     },
     "execution_count": 9,
     "metadata": {},
     "output_type": "execute_result"
    }
   ],
   "source": [
    "xmas_counter"
   ]
  },
  {
   "cell_type": "markdown",
   "metadata": {},
   "source": [
    "## Part 2"
   ]
  },
  {
   "cell_type": "code",
   "execution_count": 10,
   "metadata": {},
   "outputs": [],
   "source": [
    "def compare_3x3_windows(grid, array):\n",
    "    grid = np.array(grid)\n",
    "    pattern_array = np.array(array)\n",
    "\n",
    "    rows, cols = grid.shape\n",
    "    matches = []\n",
    "\n",
    "    array_main_diagonal = pattern_array.diagonal()\n",
    "    array_anti_diagonal = np.fliplr(pattern_array).diagonal()\n",
    "\n",
    "    # slide the 3x3 window over the grid\n",
    "    for i in range(rows - 2):\n",
    "        for j in range(cols - 2):\n",
    "            window = grid[i:i + 3, j:j + 3]\n",
    "\n",
    "            window_main_diagonal = window.diagonal()\n",
    "            window_anti_diagonal = np.fliplr(window).diagonal()\n",
    "\n",
    "            if (np.array_equal(window_main_diagonal, array_main_diagonal) and \n",
    "                np.array_equal(window_anti_diagonal, array_anti_diagonal)):\n",
    "                matches.append((i + 1, j + 1))\n",
    "\n",
    "    return matches"
   ]
  },
  {
   "cell_type": "code",
   "execution_count": 16,
   "metadata": {},
   "outputs": [],
   "source": [
    "pattern = [\n",
    "    ['M', 0, 'S'],\n",
    "    [0, 'A', 0],\n",
    "    ['M', 0, 'S'],\n",
    "]\n",
    "\n",
    "matches = []\n",
    "\n",
    "for i in range(4):\n",
    "    pattern = rotate_grid(pattern)\n",
    "    pattern_matches = compare_3x3_windows(puzzle, pattern)\n",
    "    matches += pattern_matches"
   ]
  },
  {
   "cell_type": "code",
   "execution_count": 17,
   "metadata": {},
   "outputs": [
    {
     "data": {
      "text/plain": [
       "470"
      ]
     },
     "execution_count": 17,
     "metadata": {},
     "output_type": "execute_result"
    }
   ],
   "source": [
    "len(set(pattern_matches))"
   ]
  },
  {
   "cell_type": "code",
   "execution_count": null,
   "metadata": {},
   "outputs": [],
   "source": []
  }
 ],
 "metadata": {
  "kernelspec": {
   "display_name": ".aoc",
   "language": "python",
   "name": "python3"
  },
  "language_info": {
   "codemirror_mode": {
    "name": "ipython",
    "version": 3
   },
   "file_extension": ".py",
   "mimetype": "text/x-python",
   "name": "python",
   "nbconvert_exporter": "python",
   "pygments_lexer": "ipython3",
   "version": "3.13.0"
  }
 },
 "nbformat": 4,
 "nbformat_minor": 2
}

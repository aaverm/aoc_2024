{
 "cells": [
  {
   "cell_type": "code",
   "execution_count": 1,
   "metadata": {},
   "outputs": [],
   "source": [
    "import numpy as np"
   ]
  },
  {
   "cell_type": "markdown",
   "metadata": {},
   "source": [
    "## Part1"
   ]
  },
  {
   "cell_type": "code",
   "execution_count": 11,
   "metadata": {},
   "outputs": [],
   "source": [
    "input_file = \"example1.txt\"\n",
    "\n",
    "def read_text_file_as_grid(file_path):\n",
    "    with open(file_path, 'r') as file:\n",
    "        grid = [list(line.strip()) for line in file if line.strip()]\n",
    "    return np.array(grid)"
   ]
  },
  {
   "cell_type": "code",
   "execution_count": 21,
   "metadata": {},
   "outputs": [
    {
     "name": "stdout",
     "output_type": "stream",
     "text": [
      ". . . . # . . . . .\n",
      ". . . . X X X X X #\n",
      ". . . . X . . . X .\n",
      ". . # . X . . . X .\n",
      ". . X X X X X # X .\n",
      ". . X . X . X . X .\n",
      ". # X X X X X X X .\n",
      ". X X X X X X X # .\n",
      "# X X X X X X X . .\n",
      ". . . . . . # X . .\n"
     ]
    }
   ],
   "source": [
    "grid = read_text_file_as_grid(input_file)\n",
    "\n",
    "directions = ['^', '>', 'v', '<']  \n",
    "delta = {'^': (-1, 0), '>': (0, 1), 'v': (1, 0), '<': (0, -1)}\n",
    "\n",
    "def is_valid_move(x, y):\n",
    "    \"\"\"Checks if the move is valid (within bounds and not on an obstacle).\"\"\"\n",
    "    if is_inside_grid(x,y):\n",
    "        return grid[x][y] != '#'\n",
    "    return False\n",
    "\n",
    "def is_inside_grid(x, y):\n",
    "    rows, cols = grid.shape\n",
    "    return 0 <= x < rows and 0 <= y < cols\n",
    "\n",
    "def move_agent(x, y, direction):\n",
    "    \"\"\"Moves the agent based on the direction or turns right if there's an obstacle.\"\"\"\n",
    "    dx, dy = delta[direction]\n",
    "    nx, ny = x + dx, y + dy\n",
    "\n",
    "    if is_valid_move(nx, ny):\n",
    "        return nx, ny, direction \n",
    "    elif not is_inside_grid(nx, ny):\n",
    "        return nx, ny, direction\n",
    "    else:\n",
    "        # Turn right: change direction\n",
    "        new_dir_idx = (directions.index(direction) + 1) % 4\n",
    "        return x, y, directions[new_dir_idx]\n",
    "\n",
    "def simulate_agent(start_x, start_y, start_direction):\n",
    "    \"\"\"Simulates the agent's movement and marks visited spots.\"\"\"\n",
    "    x, y, direction = start_x, start_y, start_direction\n",
    "    visited = set()\n",
    "\n",
    "    while True:\n",
    "        if (x, y, direction) in visited: \n",
    "            break\n",
    "        visited.add((x, y, direction))\n",
    "        \n",
    "        if grid[x][y] != '#':\n",
    "            grid[x][y] = 'X'\n",
    "        \n",
    "        x, y, direction = move_agent(x, y, direction)\n",
    "        \n",
    "        if not is_inside_grid(x,y):\n",
    "            break\n",
    "\n",
    "# Starting position and direction\n",
    "start_x, start_y = np.argwhere(np.array(grid) == '^')[0]\n",
    "start_direction = '^'\n",
    "\n",
    "# Simulate the agent's movement\n",
    "simulate_agent(start_x, start_y, start_direction)\n",
    "\n",
    "# Display the resulting grid\n",
    "for row in grid:\n",
    "    print(' '.join(row))\n"
   ]
  },
  {
   "cell_type": "code",
   "execution_count": 22,
   "metadata": {},
   "outputs": [
    {
     "data": {
      "text/plain": [
       "np.int64(41)"
      ]
     },
     "execution_count": 22,
     "metadata": {},
     "output_type": "execute_result"
    }
   ],
   "source": [
    "np.sum(np.array(grid) == 'X')"
   ]
  },
  {
   "cell_type": "markdown",
   "metadata": {},
   "source": [
    "## Part 2"
   ]
  },
  {
   "cell_type": "code",
   "execution_count": 29,
   "metadata": {},
   "outputs": [],
   "source": [
    "input_file = \"input.txt\""
   ]
  },
  {
   "cell_type": "code",
   "execution_count": 30,
   "metadata": {},
   "outputs": [],
   "source": [
    "def simulate_agent_loop(start_x, start_y, start_direction):\n",
    "    \"\"\"Simulates the agent's movement and marks visited spots.\"\"\"\n",
    "    x, y, direction = start_x, start_y, start_direction\n",
    "    visited = set()\n",
    "\n",
    "    while True:\n",
    "        if (x, y, direction) in visited:\n",
    "            return 1 \n",
    "        visited.add((x, y, direction))\n",
    "        \n",
    "        if grid[x][y] != '#':\n",
    "            grid[x][y] = 'X'\n",
    "        \n",
    "        x, y, direction = move_agent(x, y, direction)\n",
    "        \n",
    "        if not is_inside_grid(x,y):\n",
    "            break\n",
    "    \n",
    "    return 0\n",
    "\n",
    "grid = read_text_file_as_grid(input_file)\n",
    "\n",
    "start_direction = '^'\n",
    "start_x, start_y = np.argwhere(np.array(grid) == '^')[0]\n",
    "\n",
    "loop_counter = 0\n",
    "rows, cols = grid.shape\n",
    "\n",
    "for i in range(rows):\n",
    "    for j in range(cols):\n",
    "        grid = read_text_file_as_grid(input_file)\n",
    "        if grid[i][j] == '.':\n",
    "            grid[i][j] = '#'\n",
    "            loop_counter += simulate_agent_loop(start_x, start_y, start_direction)"
   ]
  },
  {
   "cell_type": "code",
   "execution_count": 31,
   "metadata": {},
   "outputs": [
    {
     "data": {
      "text/plain": [
       "1503"
      ]
     },
     "execution_count": 31,
     "metadata": {},
     "output_type": "execute_result"
    }
   ],
   "source": [
    "loop_counter"
   ]
  },
  {
   "cell_type": "code",
   "execution_count": null,
   "metadata": {},
   "outputs": [],
   "source": []
  }
 ],
 "metadata": {
  "kernelspec": {
   "display_name": "aoc",
   "language": "python",
   "name": "python3"
  },
  "language_info": {
   "codemirror_mode": {
    "name": "ipython",
    "version": 3
   },
   "file_extension": ".py",
   "mimetype": "text/x-python",
   "name": "python",
   "nbconvert_exporter": "python",
   "pygments_lexer": "ipython3",
   "version": "3.12.7"
  }
 },
 "nbformat": 4,
 "nbformat_minor": 2
}
